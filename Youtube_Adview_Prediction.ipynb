{
  "nbformat": 4,
  "nbformat_minor": 0,
  "metadata": {
    "colab": {
      "name": "Youtube Adview Prediction.ipynb",
      "provenance": [],
      "collapsed_sections": [],
      "include_colab_link": true
    },
    "kernelspec": {
      "name": "python3",
      "display_name": "Python 3"
    },
    "language_info": {
      "name": "python"
    },
    "accelerator": "TPU"
  },
  "cells": [
    {
      "cell_type": "markdown",
      "metadata": {
        "id": "view-in-github",
        "colab_type": "text"
      },
      "source": [
        "<a href=\"https://colab.research.google.com/github/AKHIL-882/Youtube-Adview-Prediction/blob/main/Youtube_Adview_Prediction.ipynb\" target=\"_parent\"><img src=\"https://colab.research.google.com/assets/colab-badge.svg\" alt=\"Open In Colab\"/></a>"
      ]
    },
    {
      "cell_type": "markdown",
      "metadata": {
        "id": "Upu0osu3C1uT"
      },
      "source": [
        "### **Youtube advertisers pay content creators based on adviews and clicks for the goods and services being marketed. They want to estimate the adview based on other metrics like comments, likes etc. The problem statement is therefore to train various regression models and choose the best one to predict the number of adviews. The data needs to be refined and cleaned before feeding in the algorithms for better results**"
      ]
    },
    {
      "cell_type": "markdown",
      "metadata": {
        "id": "ioXO7eT3DH6S"
      },
      "source": [
        "**What Is Exploratory Data Analysis ?**\n",
        "Exploratory Data Analysis or (EDA) is understanding the data sets by summarizing their main characteristics often plotting them visual!)y. This step is very important especially when we arrive at modeling the data in order to apply Machine learning. Plotting in EDA consists of Histograms, Box plot, Scatter plot and many more. It often takes much time to explore the data. Through the process of EDA, we understand the problem better and try to uncover hidden insights\n",
        "\n",
        "**How to perform Exploratory Data Analysis ?**\n",
        "Well, the answer is it depends on the data set that you are working. There is no one method or common methods in order to perform EDA whereas in this notebook you can understand some common methods and plots that would be used In the EDA process.\n",
        "\n",
        "**What data are we exploring today?**\n",
        "The data-set can be downloaded from here. To give a piece of brief information about the data set this data contains of\n",
        "15000 rows and 9 columns which contains features of the can such as vidid, adview, views, likes, dislikes , comment, published and duration. So in this notebook we will explore the data and make it ready for modeling."
      ]
    },
    {
      "cell_type": "markdown",
      "metadata": {
        "id": "7Bd-rEoTztFA"
      },
      "source": [
        "**1.1 Importing the Required Libraries**"
      ]
    },
    {
      "cell_type": "code",
      "metadata": {
        "id": "Rv51tg86w5P3"
      },
      "source": [
        "\n",
        "import pandas as pd   \n",
        "import numpy as np    \n",
        "import matplotlib.pyplot as plt \n",
        "import seaborn as sns"
      ],
      "execution_count": 4,
      "outputs": []
    },
    {
      "cell_type": "markdown",
      "metadata": {
        "id": "e_BG1A_L0B0T"
      },
      "source": [
        "**1.2 Mount the google drive**"
      ]
    },
    {
      "cell_type": "code",
      "metadata": {
        "id": "GQ7-FdTkzxg0",
        "colab": {
          "base_uri": "https://localhost:8080/"
        },
        "outputId": "4855cee0-df71-4d03-dcc9-efd782abd224"
      },
      "source": [
        "from google.colab import drive\n",
        "drive.mount(\"/content/gdrive\")"
      ],
      "execution_count": 5,
      "outputs": [
        {
          "output_type": "stream",
          "text": [
            "Mounted at /content/gdrive\n"
          ],
          "name": "stdout"
        }
      ]
    },
    {
      "cell_type": "markdown",
      "metadata": {
        "id": "nt7mEShA0Wyq"
      },
      "source": [
        "**1.3 Reading the datasets**"
      ]
    },
    {
      "cell_type": "code",
      "metadata": {
        "id": "ot1k-aIR0Wm8"
      },
      "source": [
        "dataset = pd.read_csv('/content/gdrive/MyDrive/Youtube Adview/train.csv')"
      ],
      "execution_count": 6,
      "outputs": []
    },
    {
      "cell_type": "markdown",
      "metadata": {
        "id": "7r5RYieEEhah"
      },
      "source": [
        "**Printing the first 10 rows of the dataset**\n",
        "\n"
      ]
    },
    {
      "cell_type": "code",
      "metadata": {
        "id": "1Abc2T-6ElGb",
        "colab": {
          "base_uri": "https://localhost:8080/",
          "height": 545
        },
        "outputId": "d4a3d929-8088-47f2-8100-0807a8ded699"
      },
      "source": [
        "dataset.head(10)"
      ],
      "execution_count": 7,
      "outputs": [
        {
          "output_type": "execute_result",
          "data": {
            "text/html": [
              "<div>\n",
              "<style scoped>\n",
              "    .dataframe tbody tr th:only-of-type {\n",
              "        vertical-align: middle;\n",
              "    }\n",
              "\n",
              "    .dataframe tbody tr th {\n",
              "        vertical-align: top;\n",
              "    }\n",
              "\n",
              "    .dataframe thead th {\n",
              "        text-align: right;\n",
              "    }\n",
              "</style>\n",
              "<table border=\"1\" class=\"dataframe\">\n",
              "  <thead>\n",
              "    <tr style=\"text-align: right;\">\n",
              "      <th></th>\n",
              "      <th>vidid</th>\n",
              "      <th>adview</th>\n",
              "      <th>views</th>\n",
              "      <th>likes</th>\n",
              "      <th>dislikes</th>\n",
              "      <th>comment</th>\n",
              "      <th>published</th>\n",
              "      <th>duration</th>\n",
              "      <th>category</th>\n",
              "    </tr>\n",
              "  </thead>\n",
              "  <tbody>\n",
              "    <tr>\n",
              "      <th>0</th>\n",
              "      <td>VID_18655</td>\n",
              "      <td>40</td>\n",
              "      <td>1031602</td>\n",
              "      <td>8523</td>\n",
              "      <td>363</td>\n",
              "      <td>1095</td>\n",
              "      <td>2016-09-14</td>\n",
              "      <td>PT7M37S</td>\n",
              "      <td>F</td>\n",
              "    </tr>\n",
              "    <tr>\n",
              "      <th>1</th>\n",
              "      <td>VID_14135</td>\n",
              "      <td>2</td>\n",
              "      <td>1707</td>\n",
              "      <td>56</td>\n",
              "      <td>2</td>\n",
              "      <td>6</td>\n",
              "      <td>2016-10-01</td>\n",
              "      <td>PT9M30S</td>\n",
              "      <td>D</td>\n",
              "    </tr>\n",
              "    <tr>\n",
              "      <th>2</th>\n",
              "      <td>VID_2187</td>\n",
              "      <td>1</td>\n",
              "      <td>2023</td>\n",
              "      <td>25</td>\n",
              "      <td>0</td>\n",
              "      <td>2</td>\n",
              "      <td>2016-07-02</td>\n",
              "      <td>PT2M16S</td>\n",
              "      <td>C</td>\n",
              "    </tr>\n",
              "    <tr>\n",
              "      <th>3</th>\n",
              "      <td>VID_23096</td>\n",
              "      <td>6</td>\n",
              "      <td>620860</td>\n",
              "      <td>777</td>\n",
              "      <td>161</td>\n",
              "      <td>153</td>\n",
              "      <td>2016-07-27</td>\n",
              "      <td>PT4M22S</td>\n",
              "      <td>H</td>\n",
              "    </tr>\n",
              "    <tr>\n",
              "      <th>4</th>\n",
              "      <td>VID_10175</td>\n",
              "      <td>1</td>\n",
              "      <td>666</td>\n",
              "      <td>1</td>\n",
              "      <td>0</td>\n",
              "      <td>0</td>\n",
              "      <td>2016-06-29</td>\n",
              "      <td>PT31S</td>\n",
              "      <td>D</td>\n",
              "    </tr>\n",
              "    <tr>\n",
              "      <th>5</th>\n",
              "      <td>VID_10756</td>\n",
              "      <td>4</td>\n",
              "      <td>78</td>\n",
              "      <td>0</td>\n",
              "      <td>0</td>\n",
              "      <td>0</td>\n",
              "      <td>2016-05-09</td>\n",
              "      <td>PT15S</td>\n",
              "      <td>D</td>\n",
              "    </tr>\n",
              "    <tr>\n",
              "      <th>6</th>\n",
              "      <td>VID_9782</td>\n",
              "      <td>40621</td>\n",
              "      <td>43118</td>\n",
              "      <td>15</td>\n",
              "      <td>1</td>\n",
              "      <td>0</td>\n",
              "      <td>2015-08-21</td>\n",
              "      <td>PT3M20S</td>\n",
              "      <td>D</td>\n",
              "    </tr>\n",
              "    <tr>\n",
              "      <th>7</th>\n",
              "      <td>VID_16452</td>\n",
              "      <td>1</td>\n",
              "      <td>14205</td>\n",
              "      <td>55</td>\n",
              "      <td>16</td>\n",
              "      <td>1</td>\n",
              "      <td>2016-08-01</td>\n",
              "      <td>PT58S</td>\n",
              "      <td>E</td>\n",
              "    </tr>\n",
              "    <tr>\n",
              "      <th>8</th>\n",
              "      <td>VID_18486</td>\n",
              "      <td>1</td>\n",
              "      <td>526015</td>\n",
              "      <td>3064</td>\n",
              "      <td>211</td>\n",
              "      <td>2582</td>\n",
              "      <td>2015-11-06</td>\n",
              "      <td>PT27M50S</td>\n",
              "      <td>F</td>\n",
              "    </tr>\n",
              "    <tr>\n",
              "      <th>9</th>\n",
              "      <td>VID_681</td>\n",
              "      <td>1</td>\n",
              "      <td>406992</td>\n",
              "      <td>3831</td>\n",
              "      <td>310</td>\n",
              "      <td>7839</td>\n",
              "      <td>2016-10-03</td>\n",
              "      <td>PT11M19S</td>\n",
              "      <td>B</td>\n",
              "    </tr>\n",
              "  </tbody>\n",
              "</table>\n",
              "</div>"
            ],
            "text/plain": [
              "       vidid  adview    views likes  ... comment   published  duration category\n",
              "0  VID_18655      40  1031602  8523  ...    1095  2016-09-14   PT7M37S        F\n",
              "1  VID_14135       2     1707    56  ...       6  2016-10-01   PT9M30S        D\n",
              "2   VID_2187       1     2023    25  ...       2  2016-07-02   PT2M16S        C\n",
              "3  VID_23096       6   620860   777  ...     153  2016-07-27   PT4M22S        H\n",
              "4  VID_10175       1      666     1  ...       0  2016-06-29     PT31S        D\n",
              "5  VID_10756       4       78     0  ...       0  2016-05-09     PT15S        D\n",
              "6   VID_9782   40621    43118    15  ...       0  2015-08-21   PT3M20S        D\n",
              "7  VID_16452       1    14205    55  ...       1  2016-08-01     PT58S        E\n",
              "8  VID_18486       1   526015  3064  ...    2582  2015-11-06  PT27M50S        F\n",
              "9    VID_681       1   406992  3831  ...    7839  2016-10-03  PT11M19S        B\n",
              "\n",
              "[10 rows x 9 columns]"
            ]
          },
          "metadata": {
            "tags": []
          },
          "execution_count": 7
        }
      ]
    },
    {
      "cell_type": "markdown",
      "metadata": {
        "id": "nGEJHNPi1TDu"
      },
      "source": [
        "**1.4 Entire information of Youtube Adviews dataset**"
      ]
    },
    {
      "cell_type": "code",
      "metadata": {
        "id": "0-jPL1qo0OKi",
        "colab": {
          "base_uri": "https://localhost:8080/"
        },
        "outputId": "6eff18da-e0b6-4232-dc65-c1c095eace03"
      },
      "source": [
        "print(\"-------------------------------------------------------\\nChecking Null values\\n-------------------------------------------------------\")\n",
        "print(\" \" ,dataset.isnull().sum())\n",
        "print(\"-------------------------------------------------------\\nShape of the dataset\\n-------------------------------------------------------\")\n",
        "print(\" \",dataset.shape)\n",
        "print(\"-------------------------------------------------------\\nInformation of dataset\\n-------------------------------------------------------\")\n",
        "print(\"\", dataset.info())\n",
        "print(\"-------------------------------------------------------\\nDescription of the dataset\\n-------------------------------------------------------\")\n",
        "print(\"\",dataset.describe())\n",
        "print(\"-------------------------------------------------------\\nChecking duplication records\\n-------------------------------------------------------\")\n",
        "print(sum(dataset.duplicated()))\n",
        "print(\"-------------------------------------------------------\\nDroping the NaN values\\n-------------------------------------------------------\")\n",
        "\n",
        "print(dataset.dropna(axis='columns'))\n",
        "print(dataset.dropna(how='all'))\n",
        "print(\"-------------------------------------------------------\\nChecking for Null\\n-------------------------------------------------------\")\n",
        "print(dataset.isnull().sum())\n",
        "print(\"-------------------------------------------------------\\nChecking for Unique values\\n-------------------------------------------------------\")\n",
        "print(dataset.nunique())\n"
      ],
      "execution_count": 8,
      "outputs": [
        {
          "output_type": "stream",
          "text": [
            "-------------------------------------------------------\n",
            "Checking Null values\n",
            "-------------------------------------------------------\n",
            "  vidid        0\n",
            "adview       0\n",
            "views        0\n",
            "likes        0\n",
            "dislikes     0\n",
            "comment      0\n",
            "published    0\n",
            "duration     0\n",
            "category     0\n",
            "dtype: int64\n",
            "-------------------------------------------------------\n",
            "Shape of the dataset\n",
            "-------------------------------------------------------\n",
            "  (14999, 9)\n",
            "-------------------------------------------------------\n",
            "Information of dataset\n",
            "-------------------------------------------------------\n",
            "<class 'pandas.core.frame.DataFrame'>\n",
            "RangeIndex: 14999 entries, 0 to 14998\n",
            "Data columns (total 9 columns):\n",
            " #   Column     Non-Null Count  Dtype \n",
            "---  ------     --------------  ----- \n",
            " 0   vidid      14999 non-null  object\n",
            " 1   adview     14999 non-null  int64 \n",
            " 2   views      14999 non-null  object\n",
            " 3   likes      14999 non-null  object\n",
            " 4   dislikes   14999 non-null  object\n",
            " 5   comment    14999 non-null  object\n",
            " 6   published  14999 non-null  object\n",
            " 7   duration   14999 non-null  object\n",
            " 8   category   14999 non-null  object\n",
            "dtypes: int64(1), object(8)\n",
            "memory usage: 1.0+ MB\n",
            " None\n",
            "-------------------------------------------------------\n",
            "Description of the dataset\n",
            "-------------------------------------------------------\n",
            "              adview\n",
            "count  1.499900e+04\n",
            "mean   2.107791e+03\n",
            "std    5.237711e+04\n",
            "min    1.000000e+00\n",
            "25%    1.000000e+00\n",
            "50%    2.000000e+00\n",
            "75%    6.000000e+00\n",
            "max    5.429665e+06\n",
            "-------------------------------------------------------\n",
            "Checking duplication records\n",
            "-------------------------------------------------------\n",
            "0\n",
            "-------------------------------------------------------\n",
            "Droping the NaN values\n",
            "-------------------------------------------------------\n",
            "           vidid  adview    views likes  ... comment   published duration category\n",
            "0      VID_18655      40  1031602  8523  ...    1095  2016-09-14  PT7M37S        F\n",
            "1      VID_14135       2     1707    56  ...       6  2016-10-01  PT9M30S        D\n",
            "2       VID_2187       1     2023    25  ...       2  2016-07-02  PT2M16S        C\n",
            "3      VID_23096       6   620860   777  ...     153  2016-07-27  PT4M22S        H\n",
            "4      VID_10175       1      666     1  ...       0  2016-06-29    PT31S        D\n",
            "...          ...     ...      ...   ...  ...     ...         ...      ...      ...\n",
            "14994     VID_31       2   525949  1137  ...      86  2015-05-18  PT6M10S        A\n",
            "14995   VID_5861       1   665673  3849  ...     569  2015-10-20  PT3M56S        D\n",
            "14996    VID_805       4     3479    16  ...       1  2013-08-23  PT3M13S        B\n",
            "14997  VID_19843       1      963     0  ...       0  2010-10-02    PT26S        G\n",
            "14998   VID_8534       1    15212    22  ...       4  2016-02-19   PT1M1S        D\n",
            "\n",
            "[14999 rows x 9 columns]\n",
            "           vidid  adview    views likes  ... comment   published duration category\n",
            "0      VID_18655      40  1031602  8523  ...    1095  2016-09-14  PT7M37S        F\n",
            "1      VID_14135       2     1707    56  ...       6  2016-10-01  PT9M30S        D\n",
            "2       VID_2187       1     2023    25  ...       2  2016-07-02  PT2M16S        C\n",
            "3      VID_23096       6   620860   777  ...     153  2016-07-27  PT4M22S        H\n",
            "4      VID_10175       1      666     1  ...       0  2016-06-29    PT31S        D\n",
            "...          ...     ...      ...   ...  ...     ...         ...      ...      ...\n",
            "14994     VID_31       2   525949  1137  ...      86  2015-05-18  PT6M10S        A\n",
            "14995   VID_5861       1   665673  3849  ...     569  2015-10-20  PT3M56S        D\n",
            "14996    VID_805       4     3479    16  ...       1  2013-08-23  PT3M13S        B\n",
            "14997  VID_19843       1      963     0  ...       0  2010-10-02    PT26S        G\n",
            "14998   VID_8534       1    15212    22  ...       4  2016-02-19   PT1M1S        D\n",
            "\n",
            "[14999 rows x 9 columns]\n",
            "-------------------------------------------------------\n",
            "Checking for Null\n",
            "-------------------------------------------------------\n",
            "vidid        0\n",
            "adview       0\n",
            "views        0\n",
            "likes        0\n",
            "dislikes     0\n",
            "comment      0\n",
            "published    0\n",
            "duration     0\n",
            "category     0\n",
            "dtype: int64\n",
            "-------------------------------------------------------\n",
            "Checking for Unique values\n",
            "-------------------------------------------------------\n",
            "vidid        14999\n",
            "adview         999\n",
            "views        14588\n",
            "likes         4789\n",
            "dislikes      1546\n",
            "comment       2007\n",
            "published     2386\n",
            "duration      3146\n",
            "category         8\n",
            "dtype: int64\n"
          ],
          "name": "stdout"
        }
      ]
    },
    {
      "cell_type": "markdown",
      "metadata": {
        "id": "bBr5Ouo124Yf"
      },
      "source": [
        "**Observation**: There are no null and duplicate values. Dataset is in the shape of (14999, 9) - where 14999 rows and 9 columns. You can observe that all the columns are Object datatype expect adview."
      ]
    },
    {
      "cell_type": "markdown",
      "metadata": {
        "id": "MwR4djc8dxXS"
      },
      "source": [
        "**1.5 Converting all the columsn into integer types**"
      ]
    },
    {
      "cell_type": "code",
      "metadata": {
        "id": "fv_B7PG5epa2",
        "colab": {
          "base_uri": "https://localhost:8080/"
        },
        "outputId": "67afc1de-1d50-4223-aa0a-0219df2e14d2"
      },
      "source": [
        "dataset.columns"
      ],
      "execution_count": 9,
      "outputs": [
        {
          "output_type": "execute_result",
          "data": {
            "text/plain": [
              "Index(['vidid', 'adview', 'views', 'likes', 'dislikes', 'comment', 'published',\n",
              "       'duration', 'category'],\n",
              "      dtype='object')"
            ]
          },
          "metadata": {
            "tags": []
          },
          "execution_count": 9
        }
      ]
    },
    {
      "cell_type": "markdown",
      "metadata": {
        "id": "YWsBOWN9RIzo"
      },
      "source": [
        "**1.6 Changing the Category Attribute to integers**"
      ]
    },
    {
      "cell_type": "code",
      "metadata": {
        "id": "WvjESfh8eAlE",
        "colab": {
          "base_uri": "https://localhost:8080/",
          "height": 307
        },
        "outputId": "947fc209-3743-4bf9-8dc7-174318a255ad"
      },
      "source": [
        "category={'A': 1,'B':2,'C':3,'D':4,'E':5,'F':6,'G':7,'H':8}\n",
        "dataset[\"category\"]=dataset[\"category\"].map(category)\n",
        "dataset.head()"
      ],
      "execution_count": 10,
      "outputs": [
        {
          "output_type": "execute_result",
          "data": {
            "text/html": [
              "<div>\n",
              "<style scoped>\n",
              "    .dataframe tbody tr th:only-of-type {\n",
              "        vertical-align: middle;\n",
              "    }\n",
              "\n",
              "    .dataframe tbody tr th {\n",
              "        vertical-align: top;\n",
              "    }\n",
              "\n",
              "    .dataframe thead th {\n",
              "        text-align: right;\n",
              "    }\n",
              "</style>\n",
              "<table border=\"1\" class=\"dataframe\">\n",
              "  <thead>\n",
              "    <tr style=\"text-align: right;\">\n",
              "      <th></th>\n",
              "      <th>vidid</th>\n",
              "      <th>adview</th>\n",
              "      <th>views</th>\n",
              "      <th>likes</th>\n",
              "      <th>dislikes</th>\n",
              "      <th>comment</th>\n",
              "      <th>published</th>\n",
              "      <th>duration</th>\n",
              "      <th>category</th>\n",
              "    </tr>\n",
              "  </thead>\n",
              "  <tbody>\n",
              "    <tr>\n",
              "      <th>0</th>\n",
              "      <td>VID_18655</td>\n",
              "      <td>40</td>\n",
              "      <td>1031602</td>\n",
              "      <td>8523</td>\n",
              "      <td>363</td>\n",
              "      <td>1095</td>\n",
              "      <td>2016-09-14</td>\n",
              "      <td>PT7M37S</td>\n",
              "      <td>6</td>\n",
              "    </tr>\n",
              "    <tr>\n",
              "      <th>1</th>\n",
              "      <td>VID_14135</td>\n",
              "      <td>2</td>\n",
              "      <td>1707</td>\n",
              "      <td>56</td>\n",
              "      <td>2</td>\n",
              "      <td>6</td>\n",
              "      <td>2016-10-01</td>\n",
              "      <td>PT9M30S</td>\n",
              "      <td>4</td>\n",
              "    </tr>\n",
              "    <tr>\n",
              "      <th>2</th>\n",
              "      <td>VID_2187</td>\n",
              "      <td>1</td>\n",
              "      <td>2023</td>\n",
              "      <td>25</td>\n",
              "      <td>0</td>\n",
              "      <td>2</td>\n",
              "      <td>2016-07-02</td>\n",
              "      <td>PT2M16S</td>\n",
              "      <td>3</td>\n",
              "    </tr>\n",
              "    <tr>\n",
              "      <th>3</th>\n",
              "      <td>VID_23096</td>\n",
              "      <td>6</td>\n",
              "      <td>620860</td>\n",
              "      <td>777</td>\n",
              "      <td>161</td>\n",
              "      <td>153</td>\n",
              "      <td>2016-07-27</td>\n",
              "      <td>PT4M22S</td>\n",
              "      <td>8</td>\n",
              "    </tr>\n",
              "    <tr>\n",
              "      <th>4</th>\n",
              "      <td>VID_10175</td>\n",
              "      <td>1</td>\n",
              "      <td>666</td>\n",
              "      <td>1</td>\n",
              "      <td>0</td>\n",
              "      <td>0</td>\n",
              "      <td>2016-06-29</td>\n",
              "      <td>PT31S</td>\n",
              "      <td>4</td>\n",
              "    </tr>\n",
              "  </tbody>\n",
              "</table>\n",
              "</div>"
            ],
            "text/plain": [
              "       vidid  adview    views likes  ... comment   published duration category\n",
              "0  VID_18655      40  1031602  8523  ...    1095  2016-09-14  PT7M37S        6\n",
              "1  VID_14135       2     1707    56  ...       6  2016-10-01  PT9M30S        4\n",
              "2   VID_2187       1     2023    25  ...       2  2016-07-02  PT2M16S        3\n",
              "3  VID_23096       6   620860   777  ...     153  2016-07-27  PT4M22S        8\n",
              "4  VID_10175       1      666     1  ...       0  2016-06-29    PT31S        4\n",
              "\n",
              "[5 rows x 9 columns]"
            ]
          },
          "metadata": {
            "tags": []
          },
          "execution_count": 10
        }
      ]
    },
    {
      "cell_type": "markdown",
      "metadata": {
        "id": "EQL2NetaRgRN"
      },
      "source": [
        "**1.7 Removing the character 'F' from each column**\n",
        "\n",
        "After analysing the dataset, I came across the character 'F' which is present in each column of the dataset.\n",
        "\n",
        "Now we have to remove the 'F' included row to get the better results"
      ]
    },
    {
      "cell_type": "markdown",
      "metadata": {
        "id": "K-yROHvFsReD"
      },
      "source": [
        "**Removing the special character from Dataset**"
      ]
    },
    {
      "cell_type": "code",
      "metadata": {
        "id": "AxIcwt5yRPHj",
        "colab": {
          "base_uri": "https://localhost:8080/",
          "height": 307
        },
        "outputId": "1567affa-97e6-4ee5-8b44-ee0a4268574a"
      },
      "source": [
        "dataset=dataset[dataset.views!='F']\n",
        "dataset=dataset[dataset.likes!='F']\n",
        "dataset=dataset[dataset.dislikes!='F']\n",
        "dataset=dataset[dataset.comment!='F']\n",
        "dataset.head()"
      ],
      "execution_count": 11,
      "outputs": [
        {
          "output_type": "execute_result",
          "data": {
            "text/html": [
              "<div>\n",
              "<style scoped>\n",
              "    .dataframe tbody tr th:only-of-type {\n",
              "        vertical-align: middle;\n",
              "    }\n",
              "\n",
              "    .dataframe tbody tr th {\n",
              "        vertical-align: top;\n",
              "    }\n",
              "\n",
              "    .dataframe thead th {\n",
              "        text-align: right;\n",
              "    }\n",
              "</style>\n",
              "<table border=\"1\" class=\"dataframe\">\n",
              "  <thead>\n",
              "    <tr style=\"text-align: right;\">\n",
              "      <th></th>\n",
              "      <th>vidid</th>\n",
              "      <th>adview</th>\n",
              "      <th>views</th>\n",
              "      <th>likes</th>\n",
              "      <th>dislikes</th>\n",
              "      <th>comment</th>\n",
              "      <th>published</th>\n",
              "      <th>duration</th>\n",
              "      <th>category</th>\n",
              "    </tr>\n",
              "  </thead>\n",
              "  <tbody>\n",
              "    <tr>\n",
              "      <th>0</th>\n",
              "      <td>VID_18655</td>\n",
              "      <td>40</td>\n",
              "      <td>1031602</td>\n",
              "      <td>8523</td>\n",
              "      <td>363</td>\n",
              "      <td>1095</td>\n",
              "      <td>2016-09-14</td>\n",
              "      <td>PT7M37S</td>\n",
              "      <td>6</td>\n",
              "    </tr>\n",
              "    <tr>\n",
              "      <th>1</th>\n",
              "      <td>VID_14135</td>\n",
              "      <td>2</td>\n",
              "      <td>1707</td>\n",
              "      <td>56</td>\n",
              "      <td>2</td>\n",
              "      <td>6</td>\n",
              "      <td>2016-10-01</td>\n",
              "      <td>PT9M30S</td>\n",
              "      <td>4</td>\n",
              "    </tr>\n",
              "    <tr>\n",
              "      <th>2</th>\n",
              "      <td>VID_2187</td>\n",
              "      <td>1</td>\n",
              "      <td>2023</td>\n",
              "      <td>25</td>\n",
              "      <td>0</td>\n",
              "      <td>2</td>\n",
              "      <td>2016-07-02</td>\n",
              "      <td>PT2M16S</td>\n",
              "      <td>3</td>\n",
              "    </tr>\n",
              "    <tr>\n",
              "      <th>3</th>\n",
              "      <td>VID_23096</td>\n",
              "      <td>6</td>\n",
              "      <td>620860</td>\n",
              "      <td>777</td>\n",
              "      <td>161</td>\n",
              "      <td>153</td>\n",
              "      <td>2016-07-27</td>\n",
              "      <td>PT4M22S</td>\n",
              "      <td>8</td>\n",
              "    </tr>\n",
              "    <tr>\n",
              "      <th>4</th>\n",
              "      <td>VID_10175</td>\n",
              "      <td>1</td>\n",
              "      <td>666</td>\n",
              "      <td>1</td>\n",
              "      <td>0</td>\n",
              "      <td>0</td>\n",
              "      <td>2016-06-29</td>\n",
              "      <td>PT31S</td>\n",
              "      <td>4</td>\n",
              "    </tr>\n",
              "  </tbody>\n",
              "</table>\n",
              "</div>"
            ],
            "text/plain": [
              "       vidid  adview    views likes  ... comment   published duration category\n",
              "0  VID_18655      40  1031602  8523  ...    1095  2016-09-14  PT7M37S        6\n",
              "1  VID_14135       2     1707    56  ...       6  2016-10-01  PT9M30S        4\n",
              "2   VID_2187       1     2023    25  ...       2  2016-07-02  PT2M16S        3\n",
              "3  VID_23096       6   620860   777  ...     153  2016-07-27  PT4M22S        8\n",
              "4  VID_10175       1      666     1  ...       0  2016-06-29    PT31S        4\n",
              "\n",
              "[5 rows x 9 columns]"
            ]
          },
          "metadata": {
            "tags": []
          },
          "execution_count": 11
        }
      ]
    },
    {
      "cell_type": "markdown",
      "metadata": {
        "id": "SvUpMfFPSAkR"
      },
      "source": [
        "**1.8 Information of dataset**"
      ]
    },
    {
      "cell_type": "code",
      "metadata": {
        "id": "Zao9J8lXR9Cr",
        "colab": {
          "base_uri": "https://localhost:8080/"
        },
        "outputId": "6ed2ec3f-1a00-4def-f9d5-fc4b9415622d"
      },
      "source": [
        "dataset.info()"
      ],
      "execution_count": 12,
      "outputs": [
        {
          "output_type": "stream",
          "text": [
            "<class 'pandas.core.frame.DataFrame'>\n",
            "Int64Index: 14637 entries, 0 to 14998\n",
            "Data columns (total 9 columns):\n",
            " #   Column     Non-Null Count  Dtype \n",
            "---  ------     --------------  ----- \n",
            " 0   vidid      14637 non-null  object\n",
            " 1   adview     14637 non-null  int64 \n",
            " 2   views      14637 non-null  object\n",
            " 3   likes      14637 non-null  object\n",
            " 4   dislikes   14637 non-null  object\n",
            " 5   comment    14637 non-null  object\n",
            " 6   published  14637 non-null  object\n",
            " 7   duration   14637 non-null  object\n",
            " 8   category   14637 non-null  int64 \n",
            "dtypes: int64(2), object(7)\n",
            "memory usage: 1.1+ MB\n"
          ],
          "name": "stdout"
        }
      ]
    },
    {
      "cell_type": "markdown",
      "metadata": {
        "id": "Xou_tvNJSGc9"
      },
      "source": [
        "**Observation:** We can find that except adview and category all the attributes are of object datatype. Now we have to convert the object datatypes to integer datatypes."
      ]
    },
    {
      "cell_type": "markdown",
      "metadata": {
        "id": "xFm424EUT3K5"
      },
      "source": [
        "**1.9 Converting the columns into neumerical attributes**"
      ]
    },
    {
      "cell_type": "code",
      "metadata": {
        "id": "dki9bhQNSEcX"
      },
      "source": [
        "dataset[\"views\"] = pd.to_numeric(dataset[\"views\"])\n",
        "dataset[\"comment\"] = pd.to_numeric(dataset[\"comment\"])\n",
        "dataset[\"likes\"] = pd.to_numeric(dataset[\"likes\"])\n",
        "dataset[\"dislikes\"] = pd.to_numeric(dataset[\"dislikes\"])\n",
        "dataset[\"adview\"]=pd.to_numeric(dataset[\"adview\"])"
      ],
      "execution_count": 13,
      "outputs": []
    },
    {
      "cell_type": "markdown",
      "metadata": {
        "id": "E2tsMPEAT-mt"
      },
      "source": [
        "**2.0 LabelEncoding for categorical attributes**\n",
        "\n",
        "Label Encoding refers to converting the labels into numeric form so as to convert it into the machine-readable form. Machine learning algorithms can then decide in a better way on how those labels must be operated. It is an important pre-processing step for the structured dataset in supervised learning"
      ]
    },
    {
      "cell_type": "markdown",
      "metadata": {
        "id": "52uaWtIkUl7v"
      },
      "source": [
        "**Importing the LabelEncoder**"
      ]
    },
    {
      "cell_type": "code",
      "metadata": {
        "id": "A8cFbiktUkz0"
      },
      "source": [
        "from sklearn.preprocessing import LabelEncoder"
      ],
      "execution_count": 14,
      "outputs": []
    },
    {
      "cell_type": "markdown",
      "metadata": {
        "id": "gHqpzNutUzve"
      },
      "source": [
        "**Insight**: From the information of the dataset, we can find that vidid, duration, published attributes are categorical variables. So now I will use label encoding method to assign the numerical values"
      ]
    },
    {
      "cell_type": "markdown",
      "metadata": {
        "id": "DysPKdNWWipG"
      },
      "source": [
        "**2.1 Applying Label Encoding on attributes**"
      ]
    },
    {
      "cell_type": "code",
      "metadata": {
        "id": "ewY9Se_dTaWo",
        "colab": {
          "base_uri": "https://localhost:8080/",
          "height": 203
        },
        "outputId": "4510236e-6cee-4057-8ef1-8650c2d6e362"
      },
      "source": [
        "dataset['duration']=LabelEncoder().fit_transform(dataset['duration'])\n",
        "dataset['vidid']=LabelEncoder().fit_transform(dataset['vidid'])\n",
        "dataset['published']=LabelEncoder().fit_transform(dataset['published'])\n",
        "dataset.head()"
      ],
      "execution_count": 15,
      "outputs": [
        {
          "output_type": "execute_result",
          "data": {
            "text/html": [
              "<div>\n",
              "<style scoped>\n",
              "    .dataframe tbody tr th:only-of-type {\n",
              "        vertical-align: middle;\n",
              "    }\n",
              "\n",
              "    .dataframe tbody tr th {\n",
              "        vertical-align: top;\n",
              "    }\n",
              "\n",
              "    .dataframe thead th {\n",
              "        text-align: right;\n",
              "    }\n",
              "</style>\n",
              "<table border=\"1\" class=\"dataframe\">\n",
              "  <thead>\n",
              "    <tr style=\"text-align: right;\">\n",
              "      <th></th>\n",
              "      <th>vidid</th>\n",
              "      <th>adview</th>\n",
              "      <th>views</th>\n",
              "      <th>likes</th>\n",
              "      <th>dislikes</th>\n",
              "      <th>comment</th>\n",
              "      <th>published</th>\n",
              "      <th>duration</th>\n",
              "      <th>category</th>\n",
              "    </tr>\n",
              "  </thead>\n",
              "  <tbody>\n",
              "    <tr>\n",
              "      <th>0</th>\n",
              "      <td>5912</td>\n",
              "      <td>40</td>\n",
              "      <td>1031602</td>\n",
              "      <td>8523</td>\n",
              "      <td>363</td>\n",
              "      <td>1095</td>\n",
              "      <td>2168</td>\n",
              "      <td>2925</td>\n",
              "      <td>6</td>\n",
              "    </tr>\n",
              "    <tr>\n",
              "      <th>1</th>\n",
              "      <td>2741</td>\n",
              "      <td>2</td>\n",
              "      <td>1707</td>\n",
              "      <td>56</td>\n",
              "      <td>2</td>\n",
              "      <td>6</td>\n",
              "      <td>2185</td>\n",
              "      <td>3040</td>\n",
              "      <td>4</td>\n",
              "    </tr>\n",
              "    <tr>\n",
              "      <th>2</th>\n",
              "      <td>8138</td>\n",
              "      <td>1</td>\n",
              "      <td>2023</td>\n",
              "      <td>25</td>\n",
              "      <td>0</td>\n",
              "      <td>2</td>\n",
              "      <td>2094</td>\n",
              "      <td>1863</td>\n",
              "      <td>3</td>\n",
              "    </tr>\n",
              "    <tr>\n",
              "      <th>3</th>\n",
              "      <td>9005</td>\n",
              "      <td>6</td>\n",
              "      <td>620860</td>\n",
              "      <td>777</td>\n",
              "      <td>161</td>\n",
              "      <td>153</td>\n",
              "      <td>2119</td>\n",
              "      <td>2546</td>\n",
              "      <td>8</td>\n",
              "    </tr>\n",
              "    <tr>\n",
              "      <th>4</th>\n",
              "      <td>122</td>\n",
              "      <td>1</td>\n",
              "      <td>666</td>\n",
              "      <td>1</td>\n",
              "      <td>0</td>\n",
              "      <td>0</td>\n",
              "      <td>2091</td>\n",
              "      <td>1963</td>\n",
              "      <td>4</td>\n",
              "    </tr>\n",
              "  </tbody>\n",
              "</table>\n",
              "</div>"
            ],
            "text/plain": [
              "   vidid  adview    views  likes  ...  comment  published  duration  category\n",
              "0   5912      40  1031602   8523  ...     1095       2168      2925         6\n",
              "1   2741       2     1707     56  ...        6       2185      3040         4\n",
              "2   8138       1     2023     25  ...        2       2094      1863         3\n",
              "3   9005       6   620860    777  ...      153       2119      2546         8\n",
              "4    122       1      666      1  ...        0       2091      1963         4\n",
              "\n",
              "[5 rows x 9 columns]"
            ]
          },
          "metadata": {
            "tags": []
          },
          "execution_count": 15
        }
      ]
    },
    {
      "cell_type": "markdown",
      "metadata": {
        "id": "3igd84NXVGdj"
      },
      "source": [
        "**Observation**: All the category attributes are now changed to numerical columns using LabelEncoding"
      ]
    },
    {
      "cell_type": "markdown",
      "metadata": {
        "id": "qcvZk7qSWrWY"
      },
      "source": [
        "**2.2 Finding the views between likes**"
      ]
    },
    {
      "cell_type": "code",
      "metadata": {
        "id": "G9n_9leFUxx_",
        "colab": {
          "base_uri": "https://localhost:8080/"
        },
        "outputId": "8eb8cff0-1d3a-4c5a-9438-4d77c98ede27"
      },
      "source": [
        "views = dataset['views']\n",
        "likes = dataset['likes']\n",
        "correlation = views.corr(likes)\n",
        "correlation"
      ],
      "execution_count": 16,
      "outputs": [
        {
          "output_type": "execute_result",
          "data": {
            "text/plain": [
              "0.7267160073913151"
            ]
          },
          "metadata": {
            "tags": []
          },
          "execution_count": 16
        }
      ]
    },
    {
      "cell_type": "markdown",
      "metadata": {
        "id": "4UdcTrvtW599"
      },
      "source": [
        "**2.3 Finding Correlation by Pearson methon**"
      ]
    },
    {
      "cell_type": "code",
      "metadata": {
        "id": "3uBLR4CHW15_",
        "colab": {
          "base_uri": "https://localhost:8080/",
          "height": 346
        },
        "outputId": "09864829-45c4-4f67-da4d-ef8464402289"
      },
      "source": [
        "corr = dataset.corr(method = 'pearson')\n",
        "corr"
      ],
      "execution_count": 17,
      "outputs": [
        {
          "output_type": "execute_result",
          "data": {
            "text/html": [
              "<div>\n",
              "<style scoped>\n",
              "    .dataframe tbody tr th:only-of-type {\n",
              "        vertical-align: middle;\n",
              "    }\n",
              "\n",
              "    .dataframe tbody tr th {\n",
              "        vertical-align: top;\n",
              "    }\n",
              "\n",
              "    .dataframe thead th {\n",
              "        text-align: right;\n",
              "    }\n",
              "</style>\n",
              "<table border=\"1\" class=\"dataframe\">\n",
              "  <thead>\n",
              "    <tr style=\"text-align: right;\">\n",
              "      <th></th>\n",
              "      <th>vidid</th>\n",
              "      <th>adview</th>\n",
              "      <th>views</th>\n",
              "      <th>likes</th>\n",
              "      <th>dislikes</th>\n",
              "      <th>comment</th>\n",
              "      <th>published</th>\n",
              "      <th>duration</th>\n",
              "      <th>category</th>\n",
              "    </tr>\n",
              "  </thead>\n",
              "  <tbody>\n",
              "    <tr>\n",
              "      <th>vidid</th>\n",
              "      <td>1.000000</td>\n",
              "      <td>-0.014456</td>\n",
              "      <td>-0.047528</td>\n",
              "      <td>-0.128769</td>\n",
              "      <td>-0.076344</td>\n",
              "      <td>-0.081038</td>\n",
              "      <td>-0.144433</td>\n",
              "      <td>-0.019800</td>\n",
              "      <td>-0.038885</td>\n",
              "    </tr>\n",
              "    <tr>\n",
              "      <th>adview</th>\n",
              "      <td>-0.014456</td>\n",
              "      <td>1.000000</td>\n",
              "      <td>0.032807</td>\n",
              "      <td>0.044650</td>\n",
              "      <td>0.036609</td>\n",
              "      <td>0.016104</td>\n",
              "      <td>0.039276</td>\n",
              "      <td>0.012616</td>\n",
              "      <td>0.008065</td>\n",
              "    </tr>\n",
              "    <tr>\n",
              "      <th>views</th>\n",
              "      <td>-0.047528</td>\n",
              "      <td>0.032807</td>\n",
              "      <td>1.000000</td>\n",
              "      <td>0.726716</td>\n",
              "      <td>0.730320</td>\n",
              "      <td>0.410662</td>\n",
              "      <td>0.020330</td>\n",
              "      <td>0.033301</td>\n",
              "      <td>0.033055</td>\n",
              "    </tr>\n",
              "    <tr>\n",
              "      <th>likes</th>\n",
              "      <td>-0.128769</td>\n",
              "      <td>0.044650</td>\n",
              "      <td>0.726716</td>\n",
              "      <td>1.000000</td>\n",
              "      <td>0.648876</td>\n",
              "      <td>0.651202</td>\n",
              "      <td>0.097183</td>\n",
              "      <td>0.082110</td>\n",
              "      <td>-0.008875</td>\n",
              "    </tr>\n",
              "    <tr>\n",
              "      <th>dislikes</th>\n",
              "      <td>-0.076344</td>\n",
              "      <td>0.036609</td>\n",
              "      <td>0.730320</td>\n",
              "      <td>0.648876</td>\n",
              "      <td>1.000000</td>\n",
              "      <td>0.532548</td>\n",
              "      <td>0.044100</td>\n",
              "      <td>0.023739</td>\n",
              "      <td>0.011759</td>\n",
              "    </tr>\n",
              "    <tr>\n",
              "      <th>comment</th>\n",
              "      <td>-0.081038</td>\n",
              "      <td>0.016104</td>\n",
              "      <td>0.410662</td>\n",
              "      <td>0.651202</td>\n",
              "      <td>0.532548</td>\n",
              "      <td>1.000000</td>\n",
              "      <td>0.114334</td>\n",
              "      <td>0.055525</td>\n",
              "      <td>-0.034003</td>\n",
              "    </tr>\n",
              "    <tr>\n",
              "      <th>published</th>\n",
              "      <td>-0.144433</td>\n",
              "      <td>0.039276</td>\n",
              "      <td>0.020330</td>\n",
              "      <td>0.097183</td>\n",
              "      <td>0.044100</td>\n",
              "      <td>0.114334</td>\n",
              "      <td>1.000000</td>\n",
              "      <td>0.004417</td>\n",
              "      <td>-0.056659</td>\n",
              "    </tr>\n",
              "    <tr>\n",
              "      <th>duration</th>\n",
              "      <td>-0.019800</td>\n",
              "      <td>0.012616</td>\n",
              "      <td>0.033301</td>\n",
              "      <td>0.082110</td>\n",
              "      <td>0.023739</td>\n",
              "      <td>0.055525</td>\n",
              "      <td>0.004417</td>\n",
              "      <td>1.000000</td>\n",
              "      <td>0.073907</td>\n",
              "    </tr>\n",
              "    <tr>\n",
              "      <th>category</th>\n",
              "      <td>-0.038885</td>\n",
              "      <td>0.008065</td>\n",
              "      <td>0.033055</td>\n",
              "      <td>-0.008875</td>\n",
              "      <td>0.011759</td>\n",
              "      <td>-0.034003</td>\n",
              "      <td>-0.056659</td>\n",
              "      <td>0.073907</td>\n",
              "      <td>1.000000</td>\n",
              "    </tr>\n",
              "  </tbody>\n",
              "</table>\n",
              "</div>"
            ],
            "text/plain": [
              "              vidid    adview     views  ...  published  duration  category\n",
              "vidid      1.000000 -0.014456 -0.047528  ...  -0.144433 -0.019800 -0.038885\n",
              "adview    -0.014456  1.000000  0.032807  ...   0.039276  0.012616  0.008065\n",
              "views     -0.047528  0.032807  1.000000  ...   0.020330  0.033301  0.033055\n",
              "likes     -0.128769  0.044650  0.726716  ...   0.097183  0.082110 -0.008875\n",
              "dislikes  -0.076344  0.036609  0.730320  ...   0.044100  0.023739  0.011759\n",
              "comment   -0.081038  0.016104  0.410662  ...   0.114334  0.055525 -0.034003\n",
              "published -0.144433  0.039276  0.020330  ...   1.000000  0.004417 -0.056659\n",
              "duration  -0.019800  0.012616  0.033301  ...   0.004417  1.000000  0.073907\n",
              "category  -0.038885  0.008065  0.033055  ...  -0.056659  0.073907  1.000000\n",
              "\n",
              "[9 rows x 9 columns]"
            ]
          },
          "metadata": {
            "tags": []
          },
          "execution_count": 17
        }
      ]
    },
    {
      "cell_type": "markdown",
      "metadata": {
        "id": "MZudUZDCXMMi"
      },
      "source": [
        "**Observation:** Except vidid and category all the columns have good correlation"
      ]
    },
    {
      "cell_type": "markdown",
      "metadata": {
        "id": "EUspPfS8Doa9"
      },
      "source": [
        "**2.4 Finding count of each column**"
      ]
    },
    {
      "cell_type": "code",
      "metadata": {
        "id": "rVoTWSvIW8WX",
        "colab": {
          "base_uri": "https://localhost:8080/"
        },
        "outputId": "2865ad45-b25a-4c38-a1b3-e3f7608d6855"
      },
      "source": [
        "l = [\"vidid\",\"likes\",\"dislikes\"]\n",
        "for col in l:\n",
        "    print(\"***\"*40)\n",
        "    print(col)\n",
        "    print(dataset[col].value_counts())\n",
        "    print(\"***\"* 40)\n",
        "    print(\"\\n\")"
      ],
      "execution_count": 18,
      "outputs": [
        {
          "output_type": "stream",
          "text": [
            "************************************************************************************************************************\n",
            "vidid\n",
            "2047     1\n",
            "4759     1\n",
            "661      1\n",
            "2708     1\n",
            "12947    1\n",
            "        ..\n",
            "11583    1\n",
            "9534     1\n",
            "13628    1\n",
            "3387     1\n",
            "0        1\n",
            "Name: vidid, Length: 14637, dtype: int64\n",
            "************************************************************************************************************************\n",
            "\n",
            "\n",
            "************************************************************************************************************************\n",
            "likes\n",
            "1        173\n",
            "0        168\n",
            "2        129\n",
            "3        117\n",
            "7        103\n",
            "        ... \n",
            "14721      1\n",
            "11174      1\n",
            "13221      1\n",
            "931        1\n",
            "2053       1\n",
            "Name: likes, Length: 4762, dtype: int64\n",
            "************************************************************************************************************************\n",
            "\n",
            "\n",
            "************************************************************************************************************************\n",
            "dislikes\n",
            "0       1089\n",
            "1        628\n",
            "2        466\n",
            "3        399\n",
            "4        335\n",
            "        ... \n",
            "1023       1\n",
            "1031       1\n",
            "1995       1\n",
            "4034       1\n",
            "1999       1\n",
            "Name: dislikes, Length: 1521, dtype: int64\n",
            "************************************************************************************************************************\n",
            "\n",
            "\n"
          ],
          "name": "stdout"
        }
      ]
    },
    {
      "cell_type": "markdown",
      "metadata": {
        "id": "79ZGJFzSDxEw"
      },
      "source": [
        "**2.5 Visualizing the Categorical Attributes**"
      ]
    },
    {
      "cell_type": "code",
      "metadata": {
        "id": "kuIhMtYUXbMy",
        "colab": {
          "base_uri": "https://localhost:8080/",
          "height": 279
        },
        "outputId": "86ac2b0d-0923-4200-9994-0825dbac7e60"
      },
      "source": [
        "dataset['category'].value_counts().plot(kind = 'bar')"
      ],
      "execution_count": 19,
      "outputs": [
        {
          "output_type": "execute_result",
          "data": {
            "text/plain": [
              "<matplotlib.axes._subplots.AxesSubplot at 0x7f93168548d0>"
            ]
          },
          "metadata": {
            "tags": []
          },
          "execution_count": 19
        },
        {
          "output_type": "display_data",
          "data": {
            "image/png": "[encoded data removed]",
            "text/plain": [
              "<Figure size 432x288 with 1 Axes>"
            ]
          },
          "metadata": {
            "tags": [],
            "needs_background": "light"
          }
        }
      ]
    },
    {
      "cell_type": "markdown",
      "metadata": {
        "id": "rBUX4u4XD_Ar"
      },
      "source": [
        "**Observation**: From the above graph we can observe that the category - 4(D) has more number of vidoes"
      ]
    },
    {
      "cell_type": "code",
      "metadata": {
        "id": "Qyv-SJagEdwh",
        "colab": {
          "base_uri": "https://localhost:8080/",
          "height": 350
        },
        "outputId": "fd991869-71ad-4612-ddb3-3681f8082025"
      },
      "source": [
        "sns.countplot(dataset['category'])"
      ],
      "execution_count": 20,
      "outputs": [
        {
          "output_type": "stream",
          "text": [
            "/usr/local/lib/python3.7/dist-packages/seaborn/_decorators.py:43: FutureWarning: Pass the following variable as a keyword arg: x. From version 0.12, the only valid positional argument will be `data`, and passing other arguments without an explicit keyword will result in an error or misinterpretation.\n",
            "  FutureWarning\n"
          ],
          "name": "stderr"
        },
        {
          "output_type": "execute_result",
          "data": {
            "text/plain": [
              "<matplotlib.axes._subplots.AxesSubplot at 0x7f9315f79cd0>"
            ]
          },
          "metadata": {
            "tags": []
          },
          "execution_count": 20
        },
        {
          "output_type": "display_data",
          "data": {
            "image/png": "[encoded data removed]",
            "text/plain": [
              "<Figure size 432x288 with 1 Axes>"
            ]
          },
          "metadata": {
            "tags": [],
            "needs_background": "light"
          }
        }
      ]
    },
    {
      "cell_type": "markdown",
      "metadata": {
        "id": "CNYJ_fUHGmlE"
      },
      "source": [
        "**2.6 Considering outliners for adviews**"
      ]
    },
    {
      "cell_type": "code",
      "metadata": {
        "id": "PDMo0P2JE26N",
        "colab": {
          "base_uri": "https://localhost:8080/",
          "height": 203
        },
        "outputId": "fe791169-560d-4b0e-c8c4-333b2adaad41"
      },
      "source": [
        "dataset = dataset[dataset[\"adview\"]<2000000]\n",
        "dataset.head()\n"
      ],
      "execution_count": 21,
      "outputs": [
        {
          "output_type": "execute_result",
          "data": {
            "text/html": [
              "<div>\n",
              "<style scoped>\n",
              "    .dataframe tbody tr th:only-of-type {\n",
              "        vertical-align: middle;\n",
              "    }\n",
              "\n",
              "    .dataframe tbody tr th {\n",
              "        vertical-align: top;\n",
              "    }\n",
              "\n",
              "    .dataframe thead th {\n",
              "        text-align: right;\n",
              "    }\n",
              "</style>\n",
              "<table border=\"1\" class=\"dataframe\">\n",
              "  <thead>\n",
              "    <tr style=\"text-align: right;\">\n",
              "      <th></th>\n",
              "      <th>vidid</th>\n",
              "      <th>adview</th>\n",
              "      <th>views</th>\n",
              "      <th>likes</th>\n",
              "      <th>dislikes</th>\n",
              "      <th>comment</th>\n",
              "      <th>published</th>\n",
              "      <th>duration</th>\n",
              "      <th>category</th>\n",
              "    </tr>\n",
              "  </thead>\n",
              "  <tbody>\n",
              "    <tr>\n",
              "      <th>0</th>\n",
              "      <td>5912</td>\n",
              "      <td>40</td>\n",
              "      <td>1031602</td>\n",
              "      <td>8523</td>\n",
              "      <td>363</td>\n",
              "      <td>1095</td>\n",
              "      <td>2168</td>\n",
              "      <td>2925</td>\n",
              "      <td>6</td>\n",
              "    </tr>\n",
              "    <tr>\n",
              "      <th>1</th>\n",
              "      <td>2741</td>\n",
              "      <td>2</td>\n",
              "      <td>1707</td>\n",
              "      <td>56</td>\n",
              "      <td>2</td>\n",
              "      <td>6</td>\n",
              "      <td>2185</td>\n",
              "      <td>3040</td>\n",
              "      <td>4</td>\n",
              "    </tr>\n",
              "    <tr>\n",
              "      <th>2</th>\n",
              "      <td>8138</td>\n",
              "      <td>1</td>\n",
              "      <td>2023</td>\n",
              "      <td>25</td>\n",
              "      <td>0</td>\n",
              "      <td>2</td>\n",
              "      <td>2094</td>\n",
              "      <td>1863</td>\n",
              "      <td>3</td>\n",
              "    </tr>\n",
              "    <tr>\n",
              "      <th>3</th>\n",
              "      <td>9005</td>\n",
              "      <td>6</td>\n",
              "      <td>620860</td>\n",
              "      <td>777</td>\n",
              "      <td>161</td>\n",
              "      <td>153</td>\n",
              "      <td>2119</td>\n",
              "      <td>2546</td>\n",
              "      <td>8</td>\n",
              "    </tr>\n",
              "    <tr>\n",
              "      <th>4</th>\n",
              "      <td>122</td>\n",
              "      <td>1</td>\n",
              "      <td>666</td>\n",
              "      <td>1</td>\n",
              "      <td>0</td>\n",
              "      <td>0</td>\n",
              "      <td>2091</td>\n",
              "      <td>1963</td>\n",
              "      <td>4</td>\n",
              "    </tr>\n",
              "  </tbody>\n",
              "</table>\n",
              "</div>"
            ],
            "text/plain": [
              "   vidid  adview    views  likes  ...  comment  published  duration  category\n",
              "0   5912      40  1031602   8523  ...     1095       2168      2925         6\n",
              "1   2741       2     1707     56  ...        6       2185      3040         4\n",
              "2   8138       1     2023     25  ...        2       2094      1863         3\n",
              "3   9005       6   620860    777  ...      153       2119      2546         8\n",
              "4    122       1      666      1  ...        0       2091      1963         4\n",
              "\n",
              "[5 rows x 9 columns]"
            ]
          },
          "metadata": {
            "tags": []
          },
          "execution_count": 21
        }
      ]
    },
    {
      "cell_type": "markdown",
      "metadata": {
        "id": "oKpUjR6QHFDo"
      },
      "source": [
        "**Observation**: All the outliners from the dataset have been removed"
      ]
    },
    {
      "cell_type": "markdown",
      "metadata": {
        "id": "OZBxj7HEHP1w"
      },
      "source": [
        "**2.7 Visualization of adview attribute**"
      ]
    },
    {
      "cell_type": "code",
      "metadata": {
        "id": "FSoDggx8G-cK",
        "colab": {
          "base_uri": "https://localhost:8080/",
          "height": 276
        },
        "outputId": "a0c7cb54-9b90-49f7-bdfd-9df18929c612"
      },
      "source": [
        "plt.plot(dataset[\"adview\"])\n",
        "plt.show()"
      ],
      "execution_count": 22,
      "outputs": [
        {
          "output_type": "display_data",
          "data": {
            "image/png": "[encoded data removed]",
            "text/plain": [
              "<Figure size 432x288 with 1 Axes>"
            ]
          },
          "metadata": {
            "tags": [],
            "needs_background": "light"
          }
        }
      ]
    },
    {
      "cell_type": "markdown",
      "metadata": {
        "id": "DGSaDncZHfHo"
      },
      "source": [
        "**2.8 Univariate analysis**"
      ]
    },
    {
      "cell_type": "markdown",
      "metadata": {
        "id": "xVEEeewSHkbw"
      },
      "source": [
        "**univariate analysis on likes**"
      ]
    },
    {
      "cell_type": "code",
      "metadata": {
        "id": "EcYvxdBeHNY8",
        "colab": {
          "base_uri": "https://localhost:8080/",
          "height": 350
        },
        "outputId": "ea26e8f7-c5cd-4881-e323-75f2df087f31"
      },
      "source": [
        "sns.distplot(dataset.likes)"
      ],
      "execution_count": 23,
      "outputs": [
        {
          "output_type": "stream",
          "text": [
            "/usr/local/lib/python3.7/dist-packages/seaborn/distributions.py:2557: FutureWarning: `distplot` is a deprecated function and will be removed in a future version. Please adapt your code to use either `displot` (a figure-level function with similar flexibility) or `histplot` (an axes-level function for histograms).\n",
            "  warnings.warn(msg, FutureWarning)\n"
          ],
          "name": "stderr"
        },
        {
          "output_type": "execute_result",
          "data": {
            "text/plain": [
              "<matplotlib.axes._subplots.AxesSubplot at 0x7f931594e410>"
            ]
          },
          "metadata": {
            "tags": []
          },
          "execution_count": 23
        },
        {
          "output_type": "display_data",
          "data": {
            "image/png": "[encoded data removed]",
            "text/plain": [
              "<Figure size 432x288 with 1 Axes>"
            ]
          },
          "metadata": {
            "tags": [],
            "needs_background": "light"
          }
        }
      ]
    },
    {
      "cell_type": "markdown",
      "metadata": {
        "id": "8ROSIzTzHqSa"
      },
      "source": [
        "**univariate analysis on dislikes**"
      ]
    },
    {
      "cell_type": "code",
      "metadata": {
        "id": "95WFRtZ6HbWt",
        "colab": {
          "base_uri": "https://localhost:8080/",
          "height": 350
        },
        "outputId": "bc4478c0-3702-465a-ce47-8ca53db80213"
      },
      "source": [
        "#univariate analysis on comments\n",
        "sns.distplot(dataset.dislikes)"
      ],
      "execution_count": 24,
      "outputs": [
        {
          "output_type": "stream",
          "text": [
            "/usr/local/lib/python3.7/dist-packages/seaborn/distributions.py:2557: FutureWarning: `distplot` is a deprecated function and will be removed in a future version. Please adapt your code to use either `displot` (a figure-level function with similar flexibility) or `histplot` (an axes-level function for histograms).\n",
            "  warnings.warn(msg, FutureWarning)\n"
          ],
          "name": "stderr"
        },
        {
          "output_type": "execute_result",
          "data": {
            "text/plain": [
              "<matplotlib.axes._subplots.AxesSubplot at 0x7f93158a3350>"
            ]
          },
          "metadata": {
            "tags": []
          },
          "execution_count": 24
        },
        {
          "output_type": "display_data",
          "data": {
            "image/png": "[encoded data removed]",
            "text/plain": [
              "<Figure size 432x288 with 1 Axes>"
            ]
          },
          "metadata": {
            "tags": [],
            "needs_background": "light"
          }
        }
      ]
    },
    {
      "cell_type": "code",
      "metadata": {
        "id": "YObMnmLhHx0o",
        "colab": {
          "base_uri": "https://localhost:8080/",
          "height": 350
        },
        "outputId": "10d2e156-3896-45e2-a309-86981d08cdce"
      },
      "source": [
        "#univariate analysis on comments\n",
        "sns.distplot(dataset.comment)"
      ],
      "execution_count": 25,
      "outputs": [
        {
          "output_type": "stream",
          "text": [
            "/usr/local/lib/python3.7/dist-packages/seaborn/distributions.py:2557: FutureWarning: `distplot` is a deprecated function and will be removed in a future version. Please adapt your code to use either `displot` (a figure-level function with similar flexibility) or `histplot` (an axes-level function for histograms).\n",
            "  warnings.warn(msg, FutureWarning)\n"
          ],
          "name": "stderr"
        },
        {
          "output_type": "execute_result",
          "data": {
            "text/plain": [
              "<matplotlib.axes._subplots.AxesSubplot at 0x7f930cf60750>"
            ]
          },
          "metadata": {
            "tags": []
          },
          "execution_count": 25
        },
        {
          "output_type": "display_data",
          "data": {
            "image/png": "[encoded data removed]",
            "text/plain": [
              "<Figure size 432x288 with 1 Axes>"
            ]
          },
          "metadata": {
            "tags": [],
            "needs_background": "light"
          }
        }
      ]
    },
    {
      "cell_type": "markdown",
      "metadata": {
        "id": "5m67Jbv5IHx7"
      },
      "source": [
        "**2.9 Multivariate analysis**"
      ]
    },
    {
      "cell_type": "code",
      "metadata": {
        "id": "uSJPqubZIQ8V",
        "colab": {
          "base_uri": "https://localhost:8080/",
          "height": 312
        },
        "outputId": "4c0232dd-c7af-46cf-c0cd-bc528d9632e2"
      },
      "source": [
        "sns.countplot(y = 'adview', data = dataset, hue = 'category')\n",
        "plt.title('Adview vs Category')\n",
        "plt.xlabel('Category')\n",
        "plt.ylabel('Adview')"
      ],
      "execution_count": 26,
      "outputs": [
        {
          "output_type": "execute_result",
          "data": {
            "text/plain": [
              "Text(0, 0.5, 'Adview')"
            ]
          },
          "metadata": {
            "tags": []
          },
          "execution_count": 26
        },
        {
          "output_type": "display_data",
          "data": {
            "image/png": "[encoded data removed]",
            "text/plain": [
              "<Figure size 432x288 with 1 Axes>"
            ]
          },
          "metadata": {
            "tags": [],
            "needs_background": "light"
          }
        }
      ]
    },
    {
      "cell_type": "code",
      "metadata": {
        "id": "kO7cDE2pu6SJ"
      },
      "source": [
        "sns.countplot(x='likes',data = dataset, hue='dislikes',)"
      ],
      "execution_count": null,
      "outputs": []
    },
    {
      "cell_type": "code",
      "metadata": {
        "id": "HBfaE32nNBls"
      },
      "source": [
        "fig,ax = plt.subplots(figsize = (15,10))\n",
        "sns.heatmap(dataset.corr(),cmap='plasma',annot=True)"
      ],
      "execution_count": null,
      "outputs": []
    },
    {
      "cell_type": "code",
      "metadata": {
        "id": "6YmLycFRNETj"
      },
      "source": [
        "sns.pairplot(dataset)"
      ],
      "execution_count": null,
      "outputs": []
    },
    {
      "cell_type": "markdown",
      "metadata": {
        "id": "MEt7Z6LkRW5i"
      },
      "source": [
        "**3.0 Transformations of feature variables**"
      ]
    },
    {
      "cell_type": "markdown",
      "metadata": {
        "id": "gneW3NUsRf9U"
      },
      "source": [
        "**3.1 Collecting data into x and y variables**"
      ]
    },
    {
      "cell_type": "code",
      "metadata": {
        "id": "xhaRMnxmNF1R",
        "colab": {
          "base_uri": "https://localhost:8080/",
          "height": 203
        },
        "outputId": "0243d045-afc9-489b-cfb9-d8b56c9fb47f"
      },
      "source": [
        "traingin_data = pd.DataFrame(data = dataset.iloc[:, 1].values, columns = ['target'])\n",
        "dataset=dataset.drop([\"adview\"],axis=1)\n",
        "dataset=dataset.drop([\"vidid\"],axis=1)\n",
        "dataset.head()"
      ],
      "execution_count": 27,
      "outputs": [
        {
          "output_type": "execute_result",
          "data": {
            "text/html": [
              "<div>\n",
              "<style scoped>\n",
              "    .dataframe tbody tr th:only-of-type {\n",
              "        vertical-align: middle;\n",
              "    }\n",
              "\n",
              "    .dataframe tbody tr th {\n",
              "        vertical-align: top;\n",
              "    }\n",
              "\n",
              "    .dataframe thead th {\n",
              "        text-align: right;\n",
              "    }\n",
              "</style>\n",
              "<table border=\"1\" class=\"dataframe\">\n",
              "  <thead>\n",
              "    <tr style=\"text-align: right;\">\n",
              "      <th></th>\n",
              "      <th>views</th>\n",
              "      <th>likes</th>\n",
              "      <th>dislikes</th>\n",
              "      <th>comment</th>\n",
              "      <th>published</th>\n",
              "      <th>duration</th>\n",
              "      <th>category</th>\n",
              "    </tr>\n",
              "  </thead>\n",
              "  <tbody>\n",
              "    <tr>\n",
              "      <th>0</th>\n",
              "      <td>1031602</td>\n",
              "      <td>8523</td>\n",
              "      <td>363</td>\n",
              "      <td>1095</td>\n",
              "      <td>2168</td>\n",
              "      <td>2925</td>\n",
              "      <td>6</td>\n",
              "    </tr>\n",
              "    <tr>\n",
              "      <th>1</th>\n",
              "      <td>1707</td>\n",
              "      <td>56</td>\n",
              "      <td>2</td>\n",
              "      <td>6</td>\n",
              "      <td>2185</td>\n",
              "      <td>3040</td>\n",
              "      <td>4</td>\n",
              "    </tr>\n",
              "    <tr>\n",
              "      <th>2</th>\n",
              "      <td>2023</td>\n",
              "      <td>25</td>\n",
              "      <td>0</td>\n",
              "      <td>2</td>\n",
              "      <td>2094</td>\n",
              "      <td>1863</td>\n",
              "      <td>3</td>\n",
              "    </tr>\n",
              "    <tr>\n",
              "      <th>3</th>\n",
              "      <td>620860</td>\n",
              "      <td>777</td>\n",
              "      <td>161</td>\n",
              "      <td>153</td>\n",
              "      <td>2119</td>\n",
              "      <td>2546</td>\n",
              "      <td>8</td>\n",
              "    </tr>\n",
              "    <tr>\n",
              "      <th>4</th>\n",
              "      <td>666</td>\n",
              "      <td>1</td>\n",
              "      <td>0</td>\n",
              "      <td>0</td>\n",
              "      <td>2091</td>\n",
              "      <td>1963</td>\n",
              "      <td>4</td>\n",
              "    </tr>\n",
              "  </tbody>\n",
              "</table>\n",
              "</div>"
            ],
            "text/plain": [
              "     views  likes  dislikes  comment  published  duration  category\n",
              "0  1031602   8523       363     1095       2168      2925         6\n",
              "1     1707     56         2        6       2185      3040         4\n",
              "2     2023     25         0        2       2094      1863         3\n",
              "3   620860    777       161      153       2119      2546         8\n",
              "4      666      1         0        0       2091      1963         4"
            ]
          },
          "metadata": {
            "tags": []
          },
          "execution_count": 27
        }
      ]
    },
    {
      "cell_type": "markdown",
      "metadata": {
        "id": "17YXH2qvVpKP"
      },
      "source": [
        "**3.2 Importing the StandardScaler and Train_test_split**"
      ]
    },
    {
      "cell_type": "code",
      "metadata": {
        "id": "wz8jBJ17VM0J"
      },
      "source": [
        "from sklearn.model_selection import train_test_split\n",
        "\n",
        "x_train,x_test,y_train,y_test = train_test_split(dataset,traingin_data,test_size = 0.3, random_state = 1)\n"
      ],
      "execution_count": 28,
      "outputs": []
    },
    {
      "cell_type": "markdown",
      "metadata": {
        "id": "wx5FUZidWVs_"
      },
      "source": [
        "**3.3 Normalizing the dataset**"
      ]
    },
    {
      "cell_type": "code",
      "metadata": {
        "id": "WDoddbQ1VweO",
        "colab": {
          "base_uri": "https://localhost:8080/"
        },
        "outputId": "4e898153-642c-4632-a976-9d5e74222b71"
      },
      "source": [
        "from sklearn.preprocessing import MinMaxScaler\n",
        "scaler = MinMaxScaler()\n",
        "x_train=scaler.fit_transform(x_train)\n",
        "x_test=scaler.fit_transform(x_test)\n",
        "x_train.mean()"
      ],
      "execution_count": 29,
      "outputs": [
        {
          "output_type": "execute_result",
          "data": {
            "text/plain": [
              "0.2567859914506345"
            ]
          },
          "metadata": {
            "tags": []
          },
          "execution_count": 29
        }
      ]
    },
    {
      "cell_type": "markdown",
      "metadata": {
        "id": "A-dlJyLQWeoV"
      },
      "source": [
        "**Observation**: The mean of x train is : 0.256"
      ]
    },
    {
      "cell_type": "markdown",
      "metadata": {
        "id": "lLy6D44HWnxV"
      },
      "source": [
        "**3.3 Function for calling MAE,MSE,RMSE**"
      ]
    },
    {
      "cell_type": "code",
      "metadata": {
        "id": "HTYz_zs8WagY"
      },
      "source": [
        "from sklearn import metrics\n",
        "def mae_mse_rmse(x_test, y_test, model_name):\n",
        "  prediction = model_name.predict(x_test)\n",
        "  print('Mean Absolute Error:', metrics.mean_absolute_error(y_test, prediction))\n",
        "  print('Mean Squared Error:', metrics.mean_squared_error(y_test, prediction))\n",
        "  print('Root Mean Squared Error:', np.sqrt(metrics.mean_squared_error(y_test, prediction)))"
      ],
      "execution_count": 30,
      "outputs": []
    },
    {
      "cell_type": "markdown",
      "metadata": {
        "id": "Tq99CHMhW5u3"
      },
      "source": [
        "**3.4 Building the Model - Linear Regression**"
      ]
    },
    {
      "cell_type": "code",
      "metadata": {
        "id": "OURW5dU9WyC7",
        "colab": {
          "base_uri": "https://localhost:8080/"
        },
        "outputId": "a62b3921-77a7-4092-ecd6-e49b05122ddc"
      },
      "source": [
        "from sklearn import linear_model\n",
        "linear_regression = linear_model.LinearRegression()\n",
        "linear_regression.fit(x_train, y_train)\n",
        "mae_mse_rmse(x_test,y_test, linear_regression)"
      ],
      "execution_count": 31,
      "outputs": [
        {
          "output_type": "stream",
          "text": [
            "Mean Absolute Error: 3716.61118223711\n",
            "Mean Squared Error: 1334278959.015215\n",
            "Root Mean Squared Error: 36527.78338491421\n"
          ],
          "name": "stdout"
        }
      ]
    },
    {
      "cell_type": "code",
      "metadata": {
        "id": "Zpp1hM9XXTFs"
      },
      "source": [
        "y_pred = linear_regression.predict(x_test)"
      ],
      "execution_count": 32,
      "outputs": []
    },
    {
      "cell_type": "code",
      "metadata": {
        "id": "qY6b1GssXdO1",
        "colab": {
          "base_uri": "https://localhost:8080/"
        },
        "outputId": "d1abdcf6-5f39-43ad-b820-ad6acf7ea64e"
      },
      "source": [
        "print(\"R2 score:\",metrics.r2_score(y_test,y_pred))"
      ],
      "execution_count": 33,
      "outputs": [
        {
          "output_type": "stream",
          "text": [
            "R2 score: 0.0031573038365118045\n"
          ],
          "name": "stdout"
        }
      ]
    },
    {
      "cell_type": "markdown",
      "metadata": {
        "id": "0Al-W_MgXtuU"
      },
      "source": [
        "**3.5 Building the Model - Support Vector Regressor**"
      ]
    },
    {
      "cell_type": "code",
      "metadata": {
        "id": "ZbORhEMqXqwH",
        "colab": {
          "base_uri": "https://localhost:8080/"
        },
        "outputId": "269adcab-aed3-4929-c0a5-00b81d5a5ea6"
      },
      "source": [
        "from sklearn.svm import SVR\n",
        "support_vector_regressor = SVR()\n",
        "support_vector_regressor.fit(x_train,y_train)\n",
        "mae_mse_rmse(x_test,y_test, linear_regression)"
      ],
      "execution_count": 34,
      "outputs": [
        {
          "output_type": "stream",
          "text": [
            "/usr/local/lib/python3.7/dist-packages/sklearn/utils/validation.py:760: DataConversionWarning: A column-vector y was passed when a 1d array was expected. Please change the shape of y to (n_samples, ), for example using ravel().\n",
            "  y = column_or_1d(y, warn=True)\n"
          ],
          "name": "stderr"
        },
        {
          "output_type": "stream",
          "text": [
            "Mean Absolute Error: 3716.61118223711\n",
            "Mean Squared Error: 1334278959.015215\n",
            "Root Mean Squared Error: 36527.78338491421\n"
          ],
          "name": "stdout"
        }
      ]
    },
    {
      "cell_type": "code",
      "metadata": {
        "id": "N37afjZ9X4Gg"
      },
      "source": [
        "y_pred = support_vector_regressor.predict(x_test)"
      ],
      "execution_count": 35,
      "outputs": []
    },
    {
      "cell_type": "code",
      "metadata": {
        "id": "yP2rZVShX94g",
        "colab": {
          "base_uri": "https://localhost:8080/"
        },
        "outputId": "838a34f8-9a16-4b97-a391-9bb44093f55e"
      },
      "source": [
        "print(\"R2 score:\",metrics.r2_score(y_test,y_pred))"
      ],
      "execution_count": 36,
      "outputs": [
        {
          "output_type": "stream",
          "text": [
            "R2 score: -0.0031371145813905432\n"
          ],
          "name": "stdout"
        }
      ]
    },
    {
      "cell_type": "markdown",
      "metadata": {
        "id": "tpWrb9-JYLwh"
      },
      "source": [
        "**3.6 Building the Model - Decision Tree**"
      ]
    },
    {
      "cell_type": "code",
      "metadata": {
        "id": "F2XtGIhQYGUS",
        "colab": {
          "base_uri": "https://localhost:8080/"
        },
        "outputId": "f754ee01-6033-449a-be0d-9e4415e14d56"
      },
      "source": [
        "from sklearn.tree import DecisionTreeRegressor\n",
        "decision_tree = DecisionTreeRegressor()\n",
        "decision_tree.fit(x_train, y_train)\n",
        "mae_mse_rmse(x_test,y_test, decision_tree)"
      ],
      "execution_count": 37,
      "outputs": [
        {
          "output_type": "stream",
          "text": [
            "Mean Absolute Error: 3575.9337280801637\n",
            "Mean Squared Error: 2037781938.2607605\n",
            "Root Mean Squared Error: 45141.79812835063\n"
          ],
          "name": "stdout"
        }
      ]
    },
    {
      "cell_type": "code",
      "metadata": {
        "id": "mQpmTR-yYQwc",
        "colab": {
          "base_uri": "https://localhost:8080/"
        },
        "outputId": "8345d1cf-37e0-4d97-e3bc-a4efae72302a"
      },
      "source": [
        "y_pred = decision_tree.predict(x_test)\n",
        "print(\"R2 score:\",metrics.r2_score(y_test,y_pred))"
      ],
      "execution_count": 38,
      "outputs": [
        {
          "output_type": "stream",
          "text": [
            "R2 score: -0.5224312935492763\n"
          ],
          "name": "stdout"
        }
      ]
    },
    {
      "cell_type": "markdown",
      "metadata": {
        "id": "REV6frI5YZQj"
      },
      "source": [
        "**3.7 Building the Model - Random Forest**"
      ]
    },
    {
      "cell_type": "code",
      "metadata": {
        "id": "4KawSfGlYVJE",
        "colab": {
          "base_uri": "https://localhost:8080/"
        },
        "outputId": "55730236-27d7-4106-d066-bd430480c72c"
      },
      "source": [
        "from sklearn.ensemble import RandomForestClassifier\n",
        "random_forest_classifier = RandomForestClassifier()\n",
        "random_forest_classifier.fit(x_train,y_train)\n",
        "mae_mse_rmse(x_test,y_test, random_forest_classifier)"
      ],
      "execution_count": 39,
      "outputs": [
        {
          "output_type": "stream",
          "text": [
            "/usr/local/lib/python3.7/dist-packages/ipykernel_launcher.py:3: DataConversionWarning: A column-vector y was passed when a 1d array was expected. Please change the shape of y to (n_samples,), for example using ravel().\n",
            "  This is separate from the ipykernel package so we can avoid doing imports until\n"
          ],
          "name": "stderr"
        },
        {
          "output_type": "stream",
          "text": [
            "Mean Absolute Error: 1992.4067410612618\n",
            "Mean Squared Error: 1332645498.2395809\n",
            "Root Mean Squared Error: 36505.41738207606\n"
          ],
          "name": "stdout"
        }
      ]
    },
    {
      "cell_type": "code",
      "metadata": {
        "id": "SK8PPzOrY5jX",
        "colab": {
          "base_uri": "https://localhost:8080/"
        },
        "outputId": "a5fbb389-7b26-4e5f-e211-008112392fa8"
      },
      "source": [
        "y_pred = random_forest_classifier.predict(x_test)\n",
        "print(\"R2 score:\",metrics.r2_score(y_test,y_pred))"
      ],
      "execution_count": 40,
      "outputs": [
        {
          "output_type": "stream",
          "text": [
            "R2 score: 0.004377665914965134\n"
          ],
          "name": "stdout"
        }
      ]
    },
    {
      "cell_type": "markdown",
      "metadata": {
        "id": "M51B3Y7Namux"
      },
      "source": [
        "**3.8 Building the Model - Neural network**"
      ]
    },
    {
      "cell_type": "markdown",
      "metadata": {
        "id": "Wm64RczdaxL1"
      },
      "source": [
        "**Importing the libraries**"
      ]
    },
    {
      "cell_type": "code",
      "metadata": {
        "id": "-G6FJO6Ta0UU"
      },
      "source": [
        "import keras\n",
        "from keras.layers import Dense"
      ],
      "execution_count": 41,
      "outputs": []
    },
    {
      "cell_type": "markdown",
      "metadata": {
        "id": "0L7quqbFoIs_"
      },
      "source": [
        "**Building Neural Network**"
      ]
    },
    {
      "cell_type": "code",
      "metadata": {
        "id": "J-exnHU1YhXa",
        "colab": {
          "base_uri": "https://localhost:8080/"
        },
        "outputId": "c2297ff2-7cc2-403d-dcf7-cd77c6a696cb"
      },
      "source": [
        "neural_network = keras.models.Sequential([Dense(6, activation=\"relu\",input_shape=x_train.shape[1:]),\n",
        "Dense(6,activation=\"relu\"),\n",
        "Dense(1)\n",
        "])\n",
        "optimizer=keras.optimizers.Adam()\n",
        "loss=keras.losses.mean_squared_error\n",
        "neural_network.compile(optimizer=optimizer,loss=loss,metrics=[\"mean_squared_error\"])\n",
        "neural_network_model=neural_network.fit(x_train,y_train,epochs=20)\n",
        "neural_network.summary()"
      ],
      "execution_count": 42,
      "outputs": [
        {
          "output_type": "stream",
          "text": [
            "Epoch 1/20\n",
            "321/321 [==============================] - 15s 1ms/step - loss: 407880580.4332 - mean_squared_error: 407880580.4332\n",
            "Epoch 2/20\n",
            "321/321 [==============================] - 0s 1ms/step - loss: 762144141.7640 - mean_squared_error: 762144141.7640\n",
            "Epoch 3/20\n",
            "321/321 [==============================] - 0s 1ms/step - loss: 510903892.6957 - mean_squared_error: 510903892.6957\n",
            "Epoch 4/20\n",
            "321/321 [==============================] - 0s 1ms/step - loss: 345590003.2587 - mean_squared_error: 345590003.2587\n",
            "Epoch 5/20\n",
            "321/321 [==============================] - 0s 1ms/step - loss: 498190664.3130 - mean_squared_error: 498190664.3130\n",
            "Epoch 6/20\n",
            "321/321 [==============================] - 0s 1ms/step - loss: 593847877.6898 - mean_squared_error: 593847877.6898\n",
            "Epoch 7/20\n",
            "321/321 [==============================] - 0s 1ms/step - loss: 297532651.0194 - mean_squared_error: 297532651.0194\n",
            "Epoch 8/20\n",
            "321/321 [==============================] - 0s 1ms/step - loss: 565947873.6801 - mean_squared_error: 565947873.6801\n",
            "Epoch 9/20\n",
            "321/321 [==============================] - 0s 1ms/step - loss: 611604215.5868 - mean_squared_error: 611604215.5868\n",
            "Epoch 10/20\n",
            "321/321 [==============================] - 0s 1ms/step - loss: 730662171.9099 - mean_squared_error: 730662171.9099\n",
            "Epoch 11/20\n",
            "321/321 [==============================] - 0s 1ms/step - loss: 525166698.7823 - mean_squared_error: 525166698.7823\n",
            "Epoch 12/20\n",
            "321/321 [==============================] - 0s 1ms/step - loss: 584206570.6941 - mean_squared_error: 584206570.6941\n",
            "Epoch 13/20\n",
            "321/321 [==============================] - 0s 1ms/step - loss: 882298562.9317 - mean_squared_error: 882298562.9317\n",
            "Epoch 14/20\n",
            "321/321 [==============================] - 0s 1ms/step - loss: 975381474.1173 - mean_squared_error: 975381474.1173\n",
            "Epoch 15/20\n",
            "321/321 [==============================] - 0s 1ms/step - loss: 500178953.0140 - mean_squared_error: 500178953.0140\n",
            "Epoch 16/20\n",
            "321/321 [==============================] - 0s 1ms/step - loss: 1166404160.7923 - mean_squared_error: 1166404160.7923\n",
            "Epoch 17/20\n",
            "321/321 [==============================] - 0s 1ms/step - loss: 558595864.0770 - mean_squared_error: 558595864.0770\n",
            "Epoch 18/20\n",
            "321/321 [==============================] - 0s 1ms/step - loss: 384646108.5563 - mean_squared_error: 384646108.5563\n",
            "Epoch 19/20\n",
            "321/321 [==============================] - 0s 1ms/step - loss: 304214783.2112 - mean_squared_error: 304214783.2112\n",
            "Epoch 20/20\n",
            "321/321 [==============================] - 0s 1ms/step - loss: 487161551.8601 - mean_squared_error: 487161551.8601\n",
            "Model: \"sequential\"\n",
            "_________________________________________________________________\n",
            "Layer (type)                 Output Shape              Param #   \n",
            "=================================================================\n",
            "dense (Dense)                (None, 6)                 48        \n",
            "_________________________________________________________________\n",
            "dense_1 (Dense)              (None, 6)                 42        \n",
            "_________________________________________________________________\n",
            "dense_2 (Dense)              (None, 1)                 7         \n",
            "=================================================================\n",
            "Total params: 97\n",
            "Trainable params: 97\n",
            "Non-trainable params: 0\n",
            "_________________________________________________________________\n"
          ],
          "name": "stdout"
        }
      ]
    },
    {
      "cell_type": "markdown",
      "metadata": {
        "id": "-qUWwsIYoLul"
      },
      "source": [
        "**Calculating the Errors**"
      ]
    },
    {
      "cell_type": "code",
      "metadata": {
        "id": "jtmq0FN2a-h4",
        "colab": {
          "base_uri": "https://localhost:8080/"
        },
        "outputId": "8cb391fa-3c92-49a6-d295-0b7b89bfe294"
      },
      "source": [
        "mae_mse_rmse(x_test,y_test, neural_network)\n",
        "\n",
        "y_pred = neural_network.predict(x_test)\n",
        "print(\"R2 score:\",metrics.r2_score(y_test,y_pred))"
      ],
      "execution_count": 43,
      "outputs": [
        {
          "output_type": "stream",
          "text": [
            "Mean Absolute Error: 2768.837909841831\n",
            "Mean Squared Error: 1339617900.6708817\n",
            "Root Mean Squared Error: 36600.7909842244\n",
            "R2 score: -0.0008314310219188492\n"
          ],
          "name": "stdout"
        }
      ]
    },
    {
      "cell_type": "markdown",
      "metadata": {
        "id": "8IwObguGqa4n"
      },
      "source": [
        "**3.9 Saving SK models and Neural network model**"
      ]
    },
    {
      "cell_type": "code",
      "metadata": {
        "id": "uGdiD4GEbWbu"
      },
      "source": [
        "import joblib\n",
        "joblib.dump(random_forest_classifier, \"random_forest_classifier.pkl\")\n",
        "neural_network.save(\"random_forest_classifier.h5\")"
      ],
      "execution_count": 45,
      "outputs": []
    },
    {
      "cell_type": "markdown",
      "metadata": {
        "id": "VqHHYDImqjy-"
      },
      "source": [
        "**Observation**: Pickle and h5 files have been created"
      ]
    },
    {
      "cell_type": "markdown",
      "metadata": {
        "id": "CPR5rfoercp_"
      },
      "source": [
        "**4.0  Analysing the Testing  dataset**"
      ]
    },
    {
      "cell_type": "code",
      "metadata": {
        "id": "cElV7D6soTy0"
      },
      "source": [
        "dataset_testing = pd.read_csv(\"/content/gdrive/MyDrive/Youtube Adview/test.csv\")"
      ],
      "execution_count": 49,
      "outputs": []
    },
    {
      "cell_type": "markdown",
      "metadata": {
        "id": "4j4seu7Prjwh"
      },
      "source": [
        "**Displaying the first 5 rows of the dataset**"
      ]
    },
    {
      "cell_type": "code",
      "metadata": {
        "colab": {
          "base_uri": "https://localhost:8080/",
          "height": 203
        },
        "id": "Mav3sq99quWF",
        "outputId": "89a6aaf3-1024-424f-a083-a5f29d12dab3"
      },
      "source": [
        "dataset_testing.head()"
      ],
      "execution_count": 50,
      "outputs": [
        {
          "output_type": "execute_result",
          "data": {
            "text/html": [
              "<div>\n",
              "<style scoped>\n",
              "    .dataframe tbody tr th:only-of-type {\n",
              "        vertical-align: middle;\n",
              "    }\n",
              "\n",
              "    .dataframe tbody tr th {\n",
              "        vertical-align: top;\n",
              "    }\n",
              "\n",
              "    .dataframe thead th {\n",
              "        text-align: right;\n",
              "    }\n",
              "</style>\n",
              "<table border=\"1\" class=\"dataframe\">\n",
              "  <thead>\n",
              "    <tr style=\"text-align: right;\">\n",
              "      <th></th>\n",
              "      <th>vidid</th>\n",
              "      <th>views</th>\n",
              "      <th>likes</th>\n",
              "      <th>dislikes</th>\n",
              "      <th>comment</th>\n",
              "      <th>published</th>\n",
              "      <th>duration</th>\n",
              "      <th>category</th>\n",
              "    </tr>\n",
              "  </thead>\n",
              "  <tbody>\n",
              "    <tr>\n",
              "      <th>0</th>\n",
              "      <td>VID_1054</td>\n",
              "      <td>440238</td>\n",
              "      <td>6153</td>\n",
              "      <td>218</td>\n",
              "      <td>1377</td>\n",
              "      <td>2017-02-18</td>\n",
              "      <td>PT7M29S</td>\n",
              "      <td>B</td>\n",
              "    </tr>\n",
              "    <tr>\n",
              "      <th>1</th>\n",
              "      <td>VID_18629</td>\n",
              "      <td>1040132</td>\n",
              "      <td>8171</td>\n",
              "      <td>340</td>\n",
              "      <td>1047</td>\n",
              "      <td>2016-06-28</td>\n",
              "      <td>PT6M29S</td>\n",
              "      <td>F</td>\n",
              "    </tr>\n",
              "    <tr>\n",
              "      <th>2</th>\n",
              "      <td>VID_13967</td>\n",
              "      <td>28534</td>\n",
              "      <td>31</td>\n",
              "      <td>11</td>\n",
              "      <td>1</td>\n",
              "      <td>2014-03-10</td>\n",
              "      <td>PT37M54S</td>\n",
              "      <td>D</td>\n",
              "    </tr>\n",
              "    <tr>\n",
              "      <th>3</th>\n",
              "      <td>VID_19442</td>\n",
              "      <td>1316715</td>\n",
              "      <td>2284</td>\n",
              "      <td>250</td>\n",
              "      <td>274</td>\n",
              "      <td>2010-06-05</td>\n",
              "      <td>PT9M55S</td>\n",
              "      <td>G</td>\n",
              "    </tr>\n",
              "    <tr>\n",
              "      <th>4</th>\n",
              "      <td>VID_770</td>\n",
              "      <td>1893173</td>\n",
              "      <td>2519</td>\n",
              "      <td>225</td>\n",
              "      <td>116</td>\n",
              "      <td>2016-09-03</td>\n",
              "      <td>PT3M8S</td>\n",
              "      <td>B</td>\n",
              "    </tr>\n",
              "  </tbody>\n",
              "</table>\n",
              "</div>"
            ],
            "text/plain": [
              "       vidid    views likes dislikes comment   published  duration category\n",
              "0   VID_1054   440238  6153      218    1377  2017-02-18   PT7M29S        B\n",
              "1  VID_18629  1040132  8171      340    1047  2016-06-28   PT6M29S        F\n",
              "2  VID_13967    28534    31       11       1  2014-03-10  PT37M54S        D\n",
              "3  VID_19442  1316715  2284      250     274  2010-06-05   PT9M55S        G\n",
              "4    VID_770  1893173  2519      225     116  2016-09-03    PT3M8S        B"
            ]
          },
          "metadata": {
            "tags": []
          },
          "execution_count": 50
        }
      ]
    },
    {
      "cell_type": "markdown",
      "metadata": {
        "id": "4rESKS3ArwSW"
      },
      "source": [
        "**4.1 Getting the classifier h5 file**"
      ]
    },
    {
      "cell_type": "code",
      "metadata": {
        "id": "_28OgTkVro7u"
      },
      "source": [
        "\n",
        "from keras.models import load_model\n",
        "model = load_model(\"/content/random_forest_classifier.h5\")"
      ],
      "execution_count": 51,
      "outputs": []
    },
    {
      "cell_type": "markdown",
      "metadata": {
        "id": "tMHqVoPosGFX"
      },
      "source": [
        "**4.2 Removing the special character from Dataset**"
      ]
    },
    {
      "cell_type": "code",
      "metadata": {
        "colab": {
          "base_uri": "https://localhost:8080/",
          "height": 203
        },
        "id": "dY11TsWEr4fr",
        "outputId": "388447cf-4050-4c18-86ae-1000729f68d7"
      },
      "source": [
        "dataset_testing=dataset_testing[dataset_testing.views!='F']\n",
        "dataset_testing=dataset_testing[dataset_testing.likes!='F']\n",
        "dataset_testing=dataset_testing[dataset_testing.dislikes!='F']\n",
        "dataset_testing=dataset_testing[dataset_testing.comment!='F']\n",
        "dataset_testing.head()"
      ],
      "execution_count": 52,
      "outputs": [
        {
          "output_type": "execute_result",
          "data": {
            "text/html": [
              "<div>\n",
              "<style scoped>\n",
              "    .dataframe tbody tr th:only-of-type {\n",
              "        vertical-align: middle;\n",
              "    }\n",
              "\n",
              "    .dataframe tbody tr th {\n",
              "        vertical-align: top;\n",
              "    }\n",
              "\n",
              "    .dataframe thead th {\n",
              "        text-align: right;\n",
              "    }\n",
              "</style>\n",
              "<table border=\"1\" class=\"dataframe\">\n",
              "  <thead>\n",
              "    <tr style=\"text-align: right;\">\n",
              "      <th></th>\n",
              "      <th>vidid</th>\n",
              "      <th>views</th>\n",
              "      <th>likes</th>\n",
              "      <th>dislikes</th>\n",
              "      <th>comment</th>\n",
              "      <th>published</th>\n",
              "      <th>duration</th>\n",
              "      <th>category</th>\n",
              "    </tr>\n",
              "  </thead>\n",
              "  <tbody>\n",
              "    <tr>\n",
              "      <th>0</th>\n",
              "      <td>VID_1054</td>\n",
              "      <td>440238</td>\n",
              "      <td>6153</td>\n",
              "      <td>218</td>\n",
              "      <td>1377</td>\n",
              "      <td>2017-02-18</td>\n",
              "      <td>PT7M29S</td>\n",
              "      <td>B</td>\n",
              "    </tr>\n",
              "    <tr>\n",
              "      <th>1</th>\n",
              "      <td>VID_18629</td>\n",
              "      <td>1040132</td>\n",
              "      <td>8171</td>\n",
              "      <td>340</td>\n",
              "      <td>1047</td>\n",
              "      <td>2016-06-28</td>\n",
              "      <td>PT6M29S</td>\n",
              "      <td>F</td>\n",
              "    </tr>\n",
              "    <tr>\n",
              "      <th>2</th>\n",
              "      <td>VID_13967</td>\n",
              "      <td>28534</td>\n",
              "      <td>31</td>\n",
              "      <td>11</td>\n",
              "      <td>1</td>\n",
              "      <td>2014-03-10</td>\n",
              "      <td>PT37M54S</td>\n",
              "      <td>D</td>\n",
              "    </tr>\n",
              "    <tr>\n",
              "      <th>3</th>\n",
              "      <td>VID_19442</td>\n",
              "      <td>1316715</td>\n",
              "      <td>2284</td>\n",
              "      <td>250</td>\n",
              "      <td>274</td>\n",
              "      <td>2010-06-05</td>\n",
              "      <td>PT9M55S</td>\n",
              "      <td>G</td>\n",
              "    </tr>\n",
              "    <tr>\n",
              "      <th>4</th>\n",
              "      <td>VID_770</td>\n",
              "      <td>1893173</td>\n",
              "      <td>2519</td>\n",
              "      <td>225</td>\n",
              "      <td>116</td>\n",
              "      <td>2016-09-03</td>\n",
              "      <td>PT3M8S</td>\n",
              "      <td>B</td>\n",
              "    </tr>\n",
              "  </tbody>\n",
              "</table>\n",
              "</div>"
            ],
            "text/plain": [
              "       vidid    views likes dislikes comment   published  duration category\n",
              "0   VID_1054   440238  6153      218    1377  2017-02-18   PT7M29S        B\n",
              "1  VID_18629  1040132  8171      340    1047  2016-06-28   PT6M29S        F\n",
              "2  VID_13967    28534    31       11       1  2014-03-10  PT37M54S        D\n",
              "3  VID_19442  1316715  2284      250     274  2010-06-05   PT9M55S        G\n",
              "4    VID_770  1893173  2519      225     116  2016-09-03    PT3M8S        B"
            ]
          },
          "metadata": {
            "tags": []
          },
          "execution_count": 52
        }
      ]
    },
    {
      "cell_type": "markdown",
      "metadata": {
        "id": "0JoH5XM3shem"
      },
      "source": [
        "**4.3 Changing the category variable to integers**"
      ]
    },
    {
      "cell_type": "code",
      "metadata": {
        "colab": {
          "base_uri": "https://localhost:8080/",
          "height": 203
        },
        "id": "T6INNr6ysDch",
        "outputId": "2d349b75-2800-45a4-f790-d36f5777cf30"
      },
      "source": [
        "category={'A': 1,'B':2,'C':3,'D':4,'E':5,'F':6,'G':7,'H':8}\n",
        "dataset_testing[\"category\"]=dataset_testing[\"category\"].map(category)\n",
        "dataset_testing.head()"
      ],
      "execution_count": 54,
      "outputs": [
        {
          "output_type": "execute_result",
          "data": {
            "text/html": [
              "<div>\n",
              "<style scoped>\n",
              "    .dataframe tbody tr th:only-of-type {\n",
              "        vertical-align: middle;\n",
              "    }\n",
              "\n",
              "    .dataframe tbody tr th {\n",
              "        vertical-align: top;\n",
              "    }\n",
              "\n",
              "    .dataframe thead th {\n",
              "        text-align: right;\n",
              "    }\n",
              "</style>\n",
              "<table border=\"1\" class=\"dataframe\">\n",
              "  <thead>\n",
              "    <tr style=\"text-align: right;\">\n",
              "      <th></th>\n",
              "      <th>vidid</th>\n",
              "      <th>views</th>\n",
              "      <th>likes</th>\n",
              "      <th>dislikes</th>\n",
              "      <th>comment</th>\n",
              "      <th>published</th>\n",
              "      <th>duration</th>\n",
              "      <th>category</th>\n",
              "    </tr>\n",
              "  </thead>\n",
              "  <tbody>\n",
              "    <tr>\n",
              "      <th>0</th>\n",
              "      <td>VID_1054</td>\n",
              "      <td>440238</td>\n",
              "      <td>6153</td>\n",
              "      <td>218</td>\n",
              "      <td>1377</td>\n",
              "      <td>2017-02-18</td>\n",
              "      <td>PT7M29S</td>\n",
              "      <td>2</td>\n",
              "    </tr>\n",
              "    <tr>\n",
              "      <th>1</th>\n",
              "      <td>VID_18629</td>\n",
              "      <td>1040132</td>\n",
              "      <td>8171</td>\n",
              "      <td>340</td>\n",
              "      <td>1047</td>\n",
              "      <td>2016-06-28</td>\n",
              "      <td>PT6M29S</td>\n",
              "      <td>6</td>\n",
              "    </tr>\n",
              "    <tr>\n",
              "      <th>2</th>\n",
              "      <td>VID_13967</td>\n",
              "      <td>28534</td>\n",
              "      <td>31</td>\n",
              "      <td>11</td>\n",
              "      <td>1</td>\n",
              "      <td>2014-03-10</td>\n",
              "      <td>PT37M54S</td>\n",
              "      <td>4</td>\n",
              "    </tr>\n",
              "    <tr>\n",
              "      <th>3</th>\n",
              "      <td>VID_19442</td>\n",
              "      <td>1316715</td>\n",
              "      <td>2284</td>\n",
              "      <td>250</td>\n",
              "      <td>274</td>\n",
              "      <td>2010-06-05</td>\n",
              "      <td>PT9M55S</td>\n",
              "      <td>7</td>\n",
              "    </tr>\n",
              "    <tr>\n",
              "      <th>4</th>\n",
              "      <td>VID_770</td>\n",
              "      <td>1893173</td>\n",
              "      <td>2519</td>\n",
              "      <td>225</td>\n",
              "      <td>116</td>\n",
              "      <td>2016-09-03</td>\n",
              "      <td>PT3M8S</td>\n",
              "      <td>2</td>\n",
              "    </tr>\n",
              "  </tbody>\n",
              "</table>\n",
              "</div>"
            ],
            "text/plain": [
              "       vidid    views likes dislikes comment   published  duration  category\n",
              "0   VID_1054   440238  6153      218    1377  2017-02-18   PT7M29S         2\n",
              "1  VID_18629  1040132  8171      340    1047  2016-06-28   PT6M29S         6\n",
              "2  VID_13967    28534    31       11       1  2014-03-10  PT37M54S         4\n",
              "3  VID_19442  1316715  2284      250     274  2010-06-05   PT9M55S         7\n",
              "4    VID_770  1893173  2519      225     116  2016-09-03    PT3M8S         2"
            ]
          },
          "metadata": {
            "tags": []
          },
          "execution_count": 54
        }
      ]
    },
    {
      "cell_type": "markdown",
      "metadata": {
        "id": "q2Gj5mKRtFe4"
      },
      "source": [
        "**4.4 Converting the attributes into neumirical attributes**"
      ]
    },
    {
      "cell_type": "code",
      "metadata": {
        "id": "SQV3GPJtsnt9"
      },
      "source": [
        "dataset_testing[\"views\"] = pd.to_numeric(dataset_testing[\"views\"])\n",
        "dataset_testing[\"comment\"] = pd.to_numeric(dataset_testing[\"comment\"])\n",
        "dataset_testing[\"likes\"] = pd.to_numeric(dataset_testing[\"likes\"])\n",
        "dataset_testing[\"dislikes\"] = pd.to_numeric(dataset_testing[\"dislikes\"])\n",
        "dataset_vidid = dataset_testing['vidid']\n"
      ],
      "execution_count": 58,
      "outputs": []
    },
    {
      "cell_type": "markdown",
      "metadata": {
        "id": "9YDFdhAIto52"
      },
      "source": [
        "**4.5 Encoding the features - Label Encoding**"
      ]
    },
    {
      "cell_type": "code",
      "metadata": {
        "colab": {
          "base_uri": "https://localhost:8080/",
          "height": 203
        },
        "id": "Jvq9SBL5tQ7u",
        "outputId": "aa64028b-1f23-492f-f582-4e5bdd9e9e3c"
      },
      "source": [
        "from sklearn.preprocessing import LabelEncoder\n",
        "dataset_testing['duration']=LabelEncoder().fit_transform(dataset_testing['duration'])\n",
        "dataset_testing['vidid']=LabelEncoder().fit_transform(dataset_testing['vidid'])\n",
        "dataset_testing['published']=LabelEncoder().fit_transform(dataset_testing['published'])\n",
        "dataset_testing.head()"
      ],
      "execution_count": 60,
      "outputs": [
        {
          "output_type": "execute_result",
          "data": {
            "text/html": [
              "<div>\n",
              "<style scoped>\n",
              "    .dataframe tbody tr th:only-of-type {\n",
              "        vertical-align: middle;\n",
              "    }\n",
              "\n",
              "    .dataframe tbody tr th {\n",
              "        vertical-align: top;\n",
              "    }\n",
              "\n",
              "    .dataframe thead th {\n",
              "        text-align: right;\n",
              "    }\n",
              "</style>\n",
              "<table border=\"1\" class=\"dataframe\">\n",
              "  <thead>\n",
              "    <tr style=\"text-align: right;\">\n",
              "      <th></th>\n",
              "      <th>vidid</th>\n",
              "      <th>views</th>\n",
              "      <th>likes</th>\n",
              "      <th>dislikes</th>\n",
              "      <th>comment</th>\n",
              "      <th>published</th>\n",
              "      <th>duration</th>\n",
              "      <th>category</th>\n",
              "    </tr>\n",
              "  </thead>\n",
              "  <tbody>\n",
              "    <tr>\n",
              "      <th>0</th>\n",
              "      <td>231</td>\n",
              "      <td>440238</td>\n",
              "      <td>6153</td>\n",
              "      <td>218</td>\n",
              "      <td>1377</td>\n",
              "      <td>2053</td>\n",
              "      <td>2115</td>\n",
              "      <td>2</td>\n",
              "    </tr>\n",
              "    <tr>\n",
              "      <th>1</th>\n",
              "      <td>3444</td>\n",
              "      <td>1040132</td>\n",
              "      <td>8171</td>\n",
              "      <td>340</td>\n",
              "      <td>1047</td>\n",
              "      <td>1825</td>\n",
              "      <td>2055</td>\n",
              "      <td>6</td>\n",
              "    </tr>\n",
              "    <tr>\n",
              "      <th>2</th>\n",
              "      <td>1593</td>\n",
              "      <td>28534</td>\n",
              "      <td>31</td>\n",
              "      <td>11</td>\n",
              "      <td>1</td>\n",
              "      <td>1009</td>\n",
              "      <td>1506</td>\n",
              "      <td>4</td>\n",
              "    </tr>\n",
              "    <tr>\n",
              "      <th>3</th>\n",
              "      <td>3775</td>\n",
              "      <td>1316715</td>\n",
              "      <td>2284</td>\n",
              "      <td>250</td>\n",
              "      <td>274</td>\n",
              "      <td>116</td>\n",
              "      <td>2265</td>\n",
              "      <td>7</td>\n",
              "    </tr>\n",
              "    <tr>\n",
              "      <th>4</th>\n",
              "      <td>7644</td>\n",
              "      <td>1893173</td>\n",
              "      <td>2519</td>\n",
              "      <td>225</td>\n",
              "      <td>116</td>\n",
              "      <td>1892</td>\n",
              "      <td>1625</td>\n",
              "      <td>2</td>\n",
              "    </tr>\n",
              "  </tbody>\n",
              "</table>\n",
              "</div>"
            ],
            "text/plain": [
              "   vidid    views  likes  dislikes  comment  published  duration  category\n",
              "0    231   440238   6153       218     1377       2053      2115         2\n",
              "1   3444  1040132   8171       340     1047       1825      2055         6\n",
              "2   1593    28534     31        11        1       1009      1506         4\n",
              "3   3775  1316715   2284       250      274        116      2265         7\n",
              "4   7644  1893173   2519       225      116       1892      1625         2"
            ]
          },
          "metadata": {
            "tags": []
          },
          "execution_count": 60
        }
      ]
    },
    {
      "cell_type": "markdown",
      "metadata": {
        "id": "1zELUuFet8nK"
      },
      "source": [
        "**4.6 Droping Vivid column**"
      ]
    },
    {
      "cell_type": "code",
      "metadata": {
        "colab": {
          "base_uri": "https://localhost:8080/",
          "height": 203
        },
        "id": "SKt0yNNdt0vG",
        "outputId": "e95e6fd0-ec58-497a-a0b0-c3af482a58df"
      },
      "source": [
        "\n",
        "dataset_testing=dataset_testing.drop([\"vidid\"],axis=1)\n",
        "dataset_testing.head()"
      ],
      "execution_count": 62,
      "outputs": [
        {
          "output_type": "execute_result",
          "data": {
            "text/html": [
              "<div>\n",
              "<style scoped>\n",
              "    .dataframe tbody tr th:only-of-type {\n",
              "        vertical-align: middle;\n",
              "    }\n",
              "\n",
              "    .dataframe tbody tr th {\n",
              "        vertical-align: top;\n",
              "    }\n",
              "\n",
              "    .dataframe thead th {\n",
              "        text-align: right;\n",
              "    }\n",
              "</style>\n",
              "<table border=\"1\" class=\"dataframe\">\n",
              "  <thead>\n",
              "    <tr style=\"text-align: right;\">\n",
              "      <th></th>\n",
              "      <th>views</th>\n",
              "      <th>likes</th>\n",
              "      <th>dislikes</th>\n",
              "      <th>comment</th>\n",
              "      <th>published</th>\n",
              "      <th>duration</th>\n",
              "      <th>category</th>\n",
              "    </tr>\n",
              "  </thead>\n",
              "  <tbody>\n",
              "    <tr>\n",
              "      <th>0</th>\n",
              "      <td>440238</td>\n",
              "      <td>6153</td>\n",
              "      <td>218</td>\n",
              "      <td>1377</td>\n",
              "      <td>2053</td>\n",
              "      <td>2115</td>\n",
              "      <td>2</td>\n",
              "    </tr>\n",
              "    <tr>\n",
              "      <th>1</th>\n",
              "      <td>1040132</td>\n",
              "      <td>8171</td>\n",
              "      <td>340</td>\n",
              "      <td>1047</td>\n",
              "      <td>1825</td>\n",
              "      <td>2055</td>\n",
              "      <td>6</td>\n",
              "    </tr>\n",
              "    <tr>\n",
              "      <th>2</th>\n",
              "      <td>28534</td>\n",
              "      <td>31</td>\n",
              "      <td>11</td>\n",
              "      <td>1</td>\n",
              "      <td>1009</td>\n",
              "      <td>1506</td>\n",
              "      <td>4</td>\n",
              "    </tr>\n",
              "    <tr>\n",
              "      <th>3</th>\n",
              "      <td>1316715</td>\n",
              "      <td>2284</td>\n",
              "      <td>250</td>\n",
              "      <td>274</td>\n",
              "      <td>116</td>\n",
              "      <td>2265</td>\n",
              "      <td>7</td>\n",
              "    </tr>\n",
              "    <tr>\n",
              "      <th>4</th>\n",
              "      <td>1893173</td>\n",
              "      <td>2519</td>\n",
              "      <td>225</td>\n",
              "      <td>116</td>\n",
              "      <td>1892</td>\n",
              "      <td>1625</td>\n",
              "      <td>2</td>\n",
              "    </tr>\n",
              "  </tbody>\n",
              "</table>\n",
              "</div>"
            ],
            "text/plain": [
              "     views  likes  dislikes  comment  published  duration  category\n",
              "0   440238   6153       218     1377       2053      2115         2\n",
              "1  1040132   8171       340     1047       1825      2055         6\n",
              "2    28534     31        11        1       1009      1506         4\n",
              "3  1316715   2284       250      274        116      2265         7\n",
              "4  1893173   2519       225      116       1892      1625         2"
            ]
          },
          "metadata": {
            "tags": []
          },
          "execution_count": 62
        }
      ]
    },
    {
      "cell_type": "markdown",
      "metadata": {
        "id": "7CgWfK9nuKlZ"
      },
      "source": [
        "**4.7 Importing the MinMax Scaler**"
      ]
    },
    {
      "cell_type": "code",
      "metadata": {
        "id": "8Zq_OiEIuFr6"
      },
      "source": [
        "from sklearn.preprocessing import MinMaxScaler\n",
        "scaler = MinMaxScaler()\n",
        "x_test = dataset_testing\n",
        "x_test=scaler.fit_transform(x_test)"
      ],
      "execution_count": 63,
      "outputs": []
    },
    {
      "cell_type": "markdown",
      "metadata": {
        "id": "L4A59V63uYDh"
      },
      "source": [
        "**4.8 Predicting the model**"
      ]
    },
    {
      "cell_type": "code",
      "metadata": {
        "colab": {
          "base_uri": "https://localhost:8080/"
        },
        "id": "DLqjzGR9uQAB",
        "outputId": "765afa58-77fe-4e3f-d20b-55374f5324ca"
      },
      "source": [
        "prediction = model.predict(x_test)\n",
        "prediction=pd.DataFrame(prediction)\n",
        "prediction.info()"
      ],
      "execution_count": 64,
      "outputs": [
        {
          "output_type": "stream",
          "text": [
            "<class 'pandas.core.frame.DataFrame'>\n",
            "RangeIndex: 8549 entries, 0 to 8548\n",
            "Data columns (total 1 columns):\n",
            " #   Column  Non-Null Count  Dtype  \n",
            "---  ------  --------------  -----  \n",
            " 0   0       8549 non-null   float32\n",
            "dtypes: float32(1)\n",
            "memory usage: 33.5 KB\n"
          ],
          "name": "stdout"
        }
      ]
    },
    {
      "cell_type": "markdown",
      "metadata": {
        "id": "-F-ULvLjud_b"
      },
      "source": [
        "**4.9 Predicted Column**"
      ]
    },
    {
      "cell_type": "code",
      "metadata": {
        "colab": {
          "base_uri": "https://localhost:8080/",
          "height": 203
        },
        "id": "sfD60VzYuaV6",
        "outputId": "764c91e8-04bb-4f66-9fde-142663a0e7a4"
      },
      "source": [
        "prediction = prediction.rename(columns={0: \"Adview\"})\n",
        "prediction.head()"
      ],
      "execution_count": 65,
      "outputs": [
        {
          "output_type": "execute_result",
          "data": {
            "text/html": [
              "<div>\n",
              "<style scoped>\n",
              "    .dataframe tbody tr th:only-of-type {\n",
              "        vertical-align: middle;\n",
              "    }\n",
              "\n",
              "    .dataframe tbody tr th {\n",
              "        vertical-align: top;\n",
              "    }\n",
              "\n",
              "    .dataframe thead th {\n",
              "        text-align: right;\n",
              "    }\n",
              "</style>\n",
              "<table border=\"1\" class=\"dataframe\">\n",
              "  <thead>\n",
              "    <tr style=\"text-align: right;\">\n",
              "      <th></th>\n",
              "      <th>Adview</th>\n",
              "    </tr>\n",
              "  </thead>\n",
              "  <tbody>\n",
              "    <tr>\n",
              "      <th>0</th>\n",
              "      <td>920.265442</td>\n",
              "    </tr>\n",
              "    <tr>\n",
              "      <th>1</th>\n",
              "      <td>1021.246033</td>\n",
              "    </tr>\n",
              "    <tr>\n",
              "      <th>2</th>\n",
              "      <td>754.825806</td>\n",
              "    </tr>\n",
              "    <tr>\n",
              "      <th>3</th>\n",
              "      <td>803.489258</td>\n",
              "    </tr>\n",
              "    <tr>\n",
              "      <th>4</th>\n",
              "      <td>839.747192</td>\n",
              "    </tr>\n",
              "  </tbody>\n",
              "</table>\n",
              "</div>"
            ],
            "text/plain": [
              "        Adview\n",
              "0   920.265442\n",
              "1  1021.246033\n",
              "2   754.825806\n",
              "3   803.489258\n",
              "4   839.747192"
            ]
          },
          "metadata": {
            "tags": []
          },
          "execution_count": 65
        }
      ]
    },
    {
      "cell_type": "markdown",
      "metadata": {
        "id": "gbflKothus6n"
      },
      "source": [
        "**5.0 Saving to Prediction.csv file**"
      ]
    },
    {
      "cell_type": "code",
      "metadata": {
        "id": "YLOhw0x7uh3z"
      },
      "source": [
        "prediction.to_csv('predictions.csv')"
      ],
      "execution_count": 66,
      "outputs": []
    },
    {
      "cell_type": "code",
      "metadata": {
        "id": "KYVpsf9muyYH"
      },
      "source": [
        ""
      ],
      "execution_count": null,
      "outputs": []
    }
  ]
}